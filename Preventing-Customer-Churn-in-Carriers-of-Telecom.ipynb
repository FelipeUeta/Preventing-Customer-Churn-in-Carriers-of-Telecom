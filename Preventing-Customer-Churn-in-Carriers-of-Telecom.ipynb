{
 "cells": [
  {
   "cell_type": "markdown",
   "metadata": {},
   "source": [
    "# <font color='blue'>Preventing Customer Churn Telecommunications Companies </font>\n"
   ]
  },
  {
   "cell_type": "code",
   "execution_count": 1,
   "metadata": {},
   "outputs": [],
   "source": [
    "#Importing main packages to start exploratory analysis\n",
    "import pandas as pd\n",
    "import numpy as np\n",
    "from pandas import read_csv\n",
    "import warnings\n",
    "import seaborn as sns\n",
    "import matplotlib.pyplot as plt\n",
    "\n",
    "warnings.filterwarnings(\"ignore\")"
   ]
  },
  {
   "cell_type": "code",
   "execution_count": 2,
   "metadata": {},
   "outputs": [
    {
     "data": {
      "text/html": [
       "<div>\n",
       "<style scoped>\n",
       "    .dataframe tbody tr th:only-of-type {\n",
       "        vertical-align: middle;\n",
       "    }\n",
       "\n",
       "    .dataframe tbody tr th {\n",
       "        vertical-align: top;\n",
       "    }\n",
       "\n",
       "    .dataframe thead th {\n",
       "        text-align: right;\n",
       "    }\n",
       "</style>\n",
       "<table border=\"1\" class=\"dataframe\">\n",
       "  <thead>\n",
       "    <tr style=\"text-align: right;\">\n",
       "      <th></th>\n",
       "      <th>state</th>\n",
       "      <th>account_length</th>\n",
       "      <th>area_code</th>\n",
       "      <th>international_plan</th>\n",
       "      <th>voice_mail_plan</th>\n",
       "      <th>number_vmail_messages</th>\n",
       "      <th>total_day_minutes</th>\n",
       "      <th>total_day_calls</th>\n",
       "      <th>total_day_charge</th>\n",
       "      <th>total_eve_minutes</th>\n",
       "      <th>...</th>\n",
       "      <th>total_eve_charge</th>\n",
       "      <th>total_night_minutes</th>\n",
       "      <th>total_night_calls</th>\n",
       "      <th>total_night_charge</th>\n",
       "      <th>total_intl_minutes</th>\n",
       "      <th>total_intl_calls</th>\n",
       "      <th>total_intl_charge</th>\n",
       "      <th>number_customer_service_calls</th>\n",
       "      <th>churn</th>\n",
       "      <th>counter</th>\n",
       "    </tr>\n",
       "  </thead>\n",
       "  <tbody>\n",
       "    <tr>\n",
       "      <th>0</th>\n",
       "      <td>HI</td>\n",
       "      <td>101</td>\n",
       "      <td>area_code_510</td>\n",
       "      <td>no</td>\n",
       "      <td>no</td>\n",
       "      <td>0</td>\n",
       "      <td>70.9</td>\n",
       "      <td>123</td>\n",
       "      <td>12.05</td>\n",
       "      <td>211.9</td>\n",
       "      <td>...</td>\n",
       "      <td>18.01</td>\n",
       "      <td>236.0</td>\n",
       "      <td>73</td>\n",
       "      <td>10.62</td>\n",
       "      <td>10.6</td>\n",
       "      <td>3</td>\n",
       "      <td>2.86</td>\n",
       "      <td>3</td>\n",
       "      <td>no</td>\n",
       "      <td>1</td>\n",
       "    </tr>\n",
       "    <tr>\n",
       "      <th>1</th>\n",
       "      <td>MT</td>\n",
       "      <td>137</td>\n",
       "      <td>area_code_510</td>\n",
       "      <td>no</td>\n",
       "      <td>no</td>\n",
       "      <td>0</td>\n",
       "      <td>223.6</td>\n",
       "      <td>86</td>\n",
       "      <td>38.01</td>\n",
       "      <td>244.8</td>\n",
       "      <td>...</td>\n",
       "      <td>20.81</td>\n",
       "      <td>94.2</td>\n",
       "      <td>81</td>\n",
       "      <td>4.24</td>\n",
       "      <td>9.5</td>\n",
       "      <td>7</td>\n",
       "      <td>2.57</td>\n",
       "      <td>0</td>\n",
       "      <td>no</td>\n",
       "      <td>1</td>\n",
       "    </tr>\n",
       "    <tr>\n",
       "      <th>2</th>\n",
       "      <td>OH</td>\n",
       "      <td>103</td>\n",
       "      <td>area_code_408</td>\n",
       "      <td>no</td>\n",
       "      <td>yes</td>\n",
       "      <td>29</td>\n",
       "      <td>294.7</td>\n",
       "      <td>95</td>\n",
       "      <td>50.10</td>\n",
       "      <td>237.3</td>\n",
       "      <td>...</td>\n",
       "      <td>20.17</td>\n",
       "      <td>300.3</td>\n",
       "      <td>127</td>\n",
       "      <td>13.51</td>\n",
       "      <td>13.7</td>\n",
       "      <td>6</td>\n",
       "      <td>3.70</td>\n",
       "      <td>1</td>\n",
       "      <td>no</td>\n",
       "      <td>1</td>\n",
       "    </tr>\n",
       "    <tr>\n",
       "      <th>3</th>\n",
       "      <td>NM</td>\n",
       "      <td>99</td>\n",
       "      <td>area_code_415</td>\n",
       "      <td>no</td>\n",
       "      <td>no</td>\n",
       "      <td>0</td>\n",
       "      <td>216.8</td>\n",
       "      <td>123</td>\n",
       "      <td>36.86</td>\n",
       "      <td>126.4</td>\n",
       "      <td>...</td>\n",
       "      <td>10.74</td>\n",
       "      <td>220.6</td>\n",
       "      <td>82</td>\n",
       "      <td>9.93</td>\n",
       "      <td>15.7</td>\n",
       "      <td>2</td>\n",
       "      <td>4.24</td>\n",
       "      <td>1</td>\n",
       "      <td>no</td>\n",
       "      <td>1</td>\n",
       "    </tr>\n",
       "    <tr>\n",
       "      <th>4</th>\n",
       "      <td>SC</td>\n",
       "      <td>108</td>\n",
       "      <td>area_code_415</td>\n",
       "      <td>no</td>\n",
       "      <td>no</td>\n",
       "      <td>0</td>\n",
       "      <td>197.4</td>\n",
       "      <td>78</td>\n",
       "      <td>33.56</td>\n",
       "      <td>124.0</td>\n",
       "      <td>...</td>\n",
       "      <td>10.54</td>\n",
       "      <td>204.5</td>\n",
       "      <td>107</td>\n",
       "      <td>9.20</td>\n",
       "      <td>7.7</td>\n",
       "      <td>4</td>\n",
       "      <td>2.08</td>\n",
       "      <td>2</td>\n",
       "      <td>no</td>\n",
       "      <td>1</td>\n",
       "    </tr>\n",
       "    <tr>\n",
       "      <th>...</th>\n",
       "      <td>...</td>\n",
       "      <td>...</td>\n",
       "      <td>...</td>\n",
       "      <td>...</td>\n",
       "      <td>...</td>\n",
       "      <td>...</td>\n",
       "      <td>...</td>\n",
       "      <td>...</td>\n",
       "      <td>...</td>\n",
       "      <td>...</td>\n",
       "      <td>...</td>\n",
       "      <td>...</td>\n",
       "      <td>...</td>\n",
       "      <td>...</td>\n",
       "      <td>...</td>\n",
       "      <td>...</td>\n",
       "      <td>...</td>\n",
       "      <td>...</td>\n",
       "      <td>...</td>\n",
       "      <td>...</td>\n",
       "      <td>...</td>\n",
       "    </tr>\n",
       "    <tr>\n",
       "      <th>1662</th>\n",
       "      <td>HI</td>\n",
       "      <td>50</td>\n",
       "      <td>area_code_408</td>\n",
       "      <td>no</td>\n",
       "      <td>yes</td>\n",
       "      <td>40</td>\n",
       "      <td>235.7</td>\n",
       "      <td>127</td>\n",
       "      <td>40.07</td>\n",
       "      <td>223.0</td>\n",
       "      <td>...</td>\n",
       "      <td>18.96</td>\n",
       "      <td>297.5</td>\n",
       "      <td>116</td>\n",
       "      <td>13.39</td>\n",
       "      <td>9.9</td>\n",
       "      <td>5</td>\n",
       "      <td>2.67</td>\n",
       "      <td>2</td>\n",
       "      <td>no</td>\n",
       "      <td>1</td>\n",
       "    </tr>\n",
       "    <tr>\n",
       "      <th>1663</th>\n",
       "      <td>WV</td>\n",
       "      <td>152</td>\n",
       "      <td>area_code_415</td>\n",
       "      <td>no</td>\n",
       "      <td>no</td>\n",
       "      <td>0</td>\n",
       "      <td>184.2</td>\n",
       "      <td>90</td>\n",
       "      <td>31.31</td>\n",
       "      <td>256.8</td>\n",
       "      <td>...</td>\n",
       "      <td>21.83</td>\n",
       "      <td>213.6</td>\n",
       "      <td>113</td>\n",
       "      <td>9.61</td>\n",
       "      <td>14.7</td>\n",
       "      <td>2</td>\n",
       "      <td>3.97</td>\n",
       "      <td>3</td>\n",
       "      <td>yes</td>\n",
       "      <td>1</td>\n",
       "    </tr>\n",
       "    <tr>\n",
       "      <th>1664</th>\n",
       "      <td>DC</td>\n",
       "      <td>61</td>\n",
       "      <td>area_code_415</td>\n",
       "      <td>no</td>\n",
       "      <td>no</td>\n",
       "      <td>0</td>\n",
       "      <td>140.6</td>\n",
       "      <td>89</td>\n",
       "      <td>23.90</td>\n",
       "      <td>172.8</td>\n",
       "      <td>...</td>\n",
       "      <td>14.69</td>\n",
       "      <td>212.4</td>\n",
       "      <td>97</td>\n",
       "      <td>9.56</td>\n",
       "      <td>13.6</td>\n",
       "      <td>4</td>\n",
       "      <td>3.67</td>\n",
       "      <td>1</td>\n",
       "      <td>no</td>\n",
       "      <td>1</td>\n",
       "    </tr>\n",
       "    <tr>\n",
       "      <th>1665</th>\n",
       "      <td>DC</td>\n",
       "      <td>109</td>\n",
       "      <td>area_code_510</td>\n",
       "      <td>no</td>\n",
       "      <td>no</td>\n",
       "      <td>0</td>\n",
       "      <td>188.8</td>\n",
       "      <td>67</td>\n",
       "      <td>32.10</td>\n",
       "      <td>171.7</td>\n",
       "      <td>...</td>\n",
       "      <td>14.59</td>\n",
       "      <td>224.4</td>\n",
       "      <td>89</td>\n",
       "      <td>10.10</td>\n",
       "      <td>8.5</td>\n",
       "      <td>6</td>\n",
       "      <td>2.30</td>\n",
       "      <td>0</td>\n",
       "      <td>no</td>\n",
       "      <td>1</td>\n",
       "    </tr>\n",
       "    <tr>\n",
       "      <th>1666</th>\n",
       "      <td>VT</td>\n",
       "      <td>86</td>\n",
       "      <td>area_code_415</td>\n",
       "      <td>no</td>\n",
       "      <td>yes</td>\n",
       "      <td>34</td>\n",
       "      <td>129.4</td>\n",
       "      <td>102</td>\n",
       "      <td>22.00</td>\n",
       "      <td>267.1</td>\n",
       "      <td>...</td>\n",
       "      <td>22.70</td>\n",
       "      <td>154.8</td>\n",
       "      <td>100</td>\n",
       "      <td>6.97</td>\n",
       "      <td>9.3</td>\n",
       "      <td>16</td>\n",
       "      <td>2.51</td>\n",
       "      <td>0</td>\n",
       "      <td>no</td>\n",
       "      <td>1</td>\n",
       "    </tr>\n",
       "  </tbody>\n",
       "</table>\n",
       "<p>1667 rows × 21 columns</p>\n",
       "</div>"
      ],
      "text/plain": [
       "     state  account_length      area_code international_plan voice_mail_plan  \\\n",
       "0       HI             101  area_code_510                 no              no   \n",
       "1       MT             137  area_code_510                 no              no   \n",
       "2       OH             103  area_code_408                 no             yes   \n",
       "3       NM              99  area_code_415                 no              no   \n",
       "4       SC             108  area_code_415                 no              no   \n",
       "...    ...             ...            ...                ...             ...   \n",
       "1662    HI              50  area_code_408                 no             yes   \n",
       "1663    WV             152  area_code_415                 no              no   \n",
       "1664    DC              61  area_code_415                 no              no   \n",
       "1665    DC             109  area_code_510                 no              no   \n",
       "1666    VT              86  area_code_415                 no             yes   \n",
       "\n",
       "      number_vmail_messages  total_day_minutes  total_day_calls  \\\n",
       "0                         0               70.9              123   \n",
       "1                         0              223.6               86   \n",
       "2                        29              294.7               95   \n",
       "3                         0              216.8              123   \n",
       "4                         0              197.4               78   \n",
       "...                     ...                ...              ...   \n",
       "1662                     40              235.7              127   \n",
       "1663                      0              184.2               90   \n",
       "1664                      0              140.6               89   \n",
       "1665                      0              188.8               67   \n",
       "1666                     34              129.4              102   \n",
       "\n",
       "      total_day_charge  total_eve_minutes  ...  total_eve_charge  \\\n",
       "0                12.05              211.9  ...             18.01   \n",
       "1                38.01              244.8  ...             20.81   \n",
       "2                50.10              237.3  ...             20.17   \n",
       "3                36.86              126.4  ...             10.74   \n",
       "4                33.56              124.0  ...             10.54   \n",
       "...                ...                ...  ...               ...   \n",
       "1662             40.07              223.0  ...             18.96   \n",
       "1663             31.31              256.8  ...             21.83   \n",
       "1664             23.90              172.8  ...             14.69   \n",
       "1665             32.10              171.7  ...             14.59   \n",
       "1666             22.00              267.1  ...             22.70   \n",
       "\n",
       "      total_night_minutes  total_night_calls  total_night_charge  \\\n",
       "0                   236.0                 73               10.62   \n",
       "1                    94.2                 81                4.24   \n",
       "2                   300.3                127               13.51   \n",
       "3                   220.6                 82                9.93   \n",
       "4                   204.5                107                9.20   \n",
       "...                   ...                ...                 ...   \n",
       "1662                297.5                116               13.39   \n",
       "1663                213.6                113                9.61   \n",
       "1664                212.4                 97                9.56   \n",
       "1665                224.4                 89               10.10   \n",
       "1666                154.8                100                6.97   \n",
       "\n",
       "      total_intl_minutes  total_intl_calls  total_intl_charge  \\\n",
       "0                   10.6                 3               2.86   \n",
       "1                    9.5                 7               2.57   \n",
       "2                   13.7                 6               3.70   \n",
       "3                   15.7                 2               4.24   \n",
       "4                    7.7                 4               2.08   \n",
       "...                  ...               ...                ...   \n",
       "1662                 9.9                 5               2.67   \n",
       "1663                14.7                 2               3.97   \n",
       "1664                13.6                 4               3.67   \n",
       "1665                 8.5                 6               2.30   \n",
       "1666                 9.3                16               2.51   \n",
       "\n",
       "      number_customer_service_calls  churn counter  \n",
       "0                                 3     no       1  \n",
       "1                                 0     no       1  \n",
       "2                                 1     no       1  \n",
       "3                                 1     no       1  \n",
       "4                                 2     no       1  \n",
       "...                             ...    ...     ...  \n",
       "1662                              2     no       1  \n",
       "1663                              3    yes       1  \n",
       "1664                              1     no       1  \n",
       "1665                              0     no       1  \n",
       "1666                              0     no       1  \n",
       "\n",
       "[1667 rows x 21 columns]"
      ]
     },
     "execution_count": 2,
     "metadata": {},
     "output_type": "execute_result"
    }
   ],
   "source": [
    "# Loading dataset\n",
    "archive = 'projeto4_telecom_teste.csv'\n",
    "data = read_csv(archive)\n",
    "df=data.drop('Unnamed: 0', axis=1)\n",
    "# Add Count\n",
    "df[\"counter\"]=1\n",
    "df"
   ]
  },
  {
   "cell_type": "markdown",
   "metadata": {},
   "source": [
    "# Exploratory data analysis"
   ]
  },
  {
   "cell_type": "code",
   "execution_count": 3,
   "metadata": {},
   "outputs": [
    {
     "data": {
      "text/plain": [
       "state                             object\n",
       "account_length                     int64\n",
       "area_code                         object\n",
       "international_plan                object\n",
       "voice_mail_plan                   object\n",
       "number_vmail_messages              int64\n",
       "total_day_minutes                float64\n",
       "total_day_calls                    int64\n",
       "total_day_charge                 float64\n",
       "total_eve_minutes                float64\n",
       "total_eve_calls                    int64\n",
       "total_eve_charge                 float64\n",
       "total_night_minutes              float64\n",
       "total_night_calls                  int64\n",
       "total_night_charge               float64\n",
       "total_intl_minutes               float64\n",
       "total_intl_calls                   int64\n",
       "total_intl_charge                float64\n",
       "number_customer_service_calls      int64\n",
       "churn                             object\n",
       "counter                            int64\n",
       "dtype: object"
      ]
     },
     "execution_count": 3,
     "metadata": {},
     "output_type": "execute_result"
    }
   ],
   "source": [
    "# Checking datatypes\n",
    "df.dtypes"
   ]
  },
  {
   "cell_type": "code",
   "execution_count": 4,
   "metadata": {},
   "outputs": [
    {
     "data": {
      "text/plain": [
       "churn\n",
       "no     1443\n",
       "yes     224\n",
       "dtype: int64"
      ]
     },
     "execution_count": 4,
     "metadata": {},
     "output_type": "execute_result"
    }
   ],
   "source": [
    "# further on we must balance the dataset\n",
    "df.groupby(\"churn\").size()"
   ]
  },
  {
   "cell_type": "code",
   "execution_count": 5,
   "metadata": {},
   "outputs": [
    {
     "data": {
      "image/png": "[encoded data removed]",
      "text/plain": [
       "<Figure size 432x288 with 1 Axes>"
      ]
     },
     "metadata": {
      "needs_background": "light"
     },
     "output_type": "display_data"
    },
    {
     "data": {
      "image/png": "[encoded data removed]",
      "text/plain": [
       "<Figure size 432x288 with 1 Axes>"
      ]
     },
     "metadata": {
      "needs_background": "light"
     },
     "output_type": "display_data"
    },
    {
     "data": {
      "image/png": "[encoded data removed]",
      "text/plain": [
       "<Figure size 432x288 with 1 Axes>"
      ]
     },
     "metadata": {
      "needs_background": "light"
     },
     "output_type": "display_data"
    },
    {
     "data": {
      "image/png": "[encoded data removed]",
      "text/plain": [
       "<Figure size 432x288 with 1 Axes>"
      ]
     },
     "metadata": {
      "needs_background": "light"
     },
     "output_type": "display_data"
    },
    {
     "data": {
      "image/png": "[encoded data removed]",
      "text/plain": [
       "<Figure size 432x288 with 1 Axes>"
      ]
     },
     "metadata": {
      "needs_background": "light"
     },
     "output_type": "display_data"
    },
    {
     "data": {
      "image/png": "[encoded data removed]",
      "text/plain": [
       "<Figure size 432x288 with 1 Axes>"
      ]
     },
     "metadata": {
      "needs_background": "light"
     },
     "output_type": "display_data"
    },
    {
     "data": {
      "image/png": "[encoded data removed]",
      "text/plain": [
       "<Figure size 432x288 with 1 Axes>"
      ]
     },
     "metadata": {
      "needs_background": "light"
     },
     "output_type": "display_data"
    },
    {
     "data": {
      "image/png": "[encoded data removed]",
      "text/plain": [
       "<Figure size 432x288 with 1 Axes>"
      ]
     },
     "metadata": {
      "needs_background": "light"
     },
     "output_type": "display_data"
    },
    {
     "data": {
      "image/png": "[encoded data removed]",
      "text/plain": [
       "<Figure size 432x288 with 1 Axes>"
      ]
     },
     "metadata": {
      "needs_background": "light"
     },
     "output_type": "display_data"
    },
    {
     "data": {
      "image/png": "[encoded data removed]",
      "text/plain": [
       "<Figure size 432x288 with 1 Axes>"
      ]
     },
     "metadata": {
      "needs_background": "light"
     },
     "output_type": "display_data"
    },
    {
     "data": {
      "image/png": "[encoded data removed]",
      "text/plain": [
       "<Figure size 432x288 with 1 Axes>"
      ]
     },
     "metadata": {
      "needs_background": "light"
     },
     "output_type": "display_data"
    },
    {
     "data": {
      "image/png": "[encoded data removed]",
      "text/plain": [
       "<Figure size 432x288 with 1 Axes>"
      ]
     },
     "metadata": {
      "needs_background": "light"
     },
     "output_type": "display_data"
    },
    {
     "data": {
      "image/png": "[encoded data removed]",
      "text/plain": [
       "<Figure size 432x288 with 1 Axes>"
      ]
     },
     "metadata": {
      "needs_background": "light"
     },
     "output_type": "display_data"
    },
    {
     "data": {
      "image/png": "[encoded data removed]",
      "text/plain": [
       "<Figure size 432x288 with 1 Axes>"
      ]
     },
     "metadata": {
      "needs_background": "light"
     },
     "output_type": "display_data"
    },
    {
     "data": {
      "image/png": "[encoded data removed]",
      "text/plain": [
       "<Figure size 432x288 with 1 Axes>"
      ]
     },
     "metadata": {
      "needs_background": "light"
     },
     "output_type": "display_data"
    },
    {
     "data": {
      "image/png": "[encoded data removed]",
      "text/plain": [
       "<Figure size 432x288 with 1 Axes>"
      ]
     },
     "metadata": {
      "needs_background": "light"
     },
     "output_type": "display_data"
    }
   ],
   "source": [
    "for features in df.columns:\n",
    "    if df[features].dtypes!='object':\n",
    "        df.hist(features)"
   ]
  },
  {
   "cell_type": "code",
   "execution_count": 6,
   "metadata": {},
   "outputs": [
    {
     "data": {
      "text/html": [
       "<div>\n",
       "<style scoped>\n",
       "    .dataframe tbody tr th:only-of-type {\n",
       "        vertical-align: middle;\n",
       "    }\n",
       "\n",
       "    .dataframe tbody tr th {\n",
       "        vertical-align: top;\n",
       "    }\n",
       "\n",
       "    .dataframe thead th {\n",
       "        text-align: right;\n",
       "    }\n",
       "</style>\n",
       "<table border=\"1\" class=\"dataframe\">\n",
       "  <thead>\n",
       "    <tr style=\"text-align: right;\">\n",
       "      <th>churn</th>\n",
       "      <th>no</th>\n",
       "      <th>yes</th>\n",
       "      <th>Total</th>\n",
       "      <th>Churn_perc</th>\n",
       "    </tr>\n",
       "    <tr>\n",
       "      <th>Ligacoes</th>\n",
       "      <th></th>\n",
       "      <th></th>\n",
       "      <th></th>\n",
       "      <th></th>\n",
       "    </tr>\n",
       "  </thead>\n",
       "  <tbody>\n",
       "    <tr>\n",
       "      <th>0</th>\n",
       "      <td>297</td>\n",
       "      <td>29</td>\n",
       "      <td>326</td>\n",
       "      <td>8.90</td>\n",
       "    </tr>\n",
       "    <tr>\n",
       "      <th>1</th>\n",
       "      <td>537</td>\n",
       "      <td>68</td>\n",
       "      <td>605</td>\n",
       "      <td>11.24</td>\n",
       "    </tr>\n",
       "    <tr>\n",
       "      <th>2</th>\n",
       "      <td>333</td>\n",
       "      <td>35</td>\n",
       "      <td>368</td>\n",
       "      <td>9.51</td>\n",
       "    </tr>\n",
       "    <tr>\n",
       "      <th>3</th>\n",
       "      <td>207</td>\n",
       "      <td>29</td>\n",
       "      <td>236</td>\n",
       "      <td>12.29</td>\n",
       "    </tr>\n",
       "    <tr>\n",
       "      <th>4</th>\n",
       "      <td>51</td>\n",
       "      <td>35</td>\n",
       "      <td>86</td>\n",
       "      <td>40.70</td>\n",
       "    </tr>\n",
       "    <tr>\n",
       "      <th>5</th>\n",
       "      <td>12</td>\n",
       "      <td>18</td>\n",
       "      <td>30</td>\n",
       "      <td>60.00</td>\n",
       "    </tr>\n",
       "    <tr>\n",
       "      <th>6</th>\n",
       "      <td>4</td>\n",
       "      <td>8</td>\n",
       "      <td>12</td>\n",
       "      <td>66.67</td>\n",
       "    </tr>\n",
       "    <tr>\n",
       "      <th>7</th>\n",
       "      <td>2</td>\n",
       "      <td>2</td>\n",
       "      <td>4</td>\n",
       "      <td>50.00</td>\n",
       "    </tr>\n",
       "  </tbody>\n",
       "</table>\n",
       "</div>"
      ],
      "text/plain": [
       "churn      no  yes  Total  Churn_perc\n",
       "Ligacoes                             \n",
       "0         297   29    326        8.90\n",
       "1         537   68    605       11.24\n",
       "2         333   35    368        9.51\n",
       "3         207   29    236       12.29\n",
       "4          51   35     86       40.70\n",
       "5          12   18     30       60.00\n",
       "6           4    8     12       66.67\n",
       "7           2    2      4       50.00"
      ]
     },
     "execution_count": 6,
     "metadata": {},
     "output_type": "execute_result"
    }
   ],
   "source": [
    "Calls_Churn=df.groupby([\"number_customer_service_calls\",\"churn\"]).agg({\"churn\":[\"count\"]}).reset_index()\n",
    "Calls_Churn.columns=[\"Ligacoes\",\"churn\",\"volume\"]\n",
    "Calls_Churn_grp=Calls_Churn.pivot(index=\"Ligacoes\",columns='churn',values='volume')\n",
    "Calls_Churn_grp[\"Total\"]=Calls_Churn_grp[\"yes\"]+Calls_Churn_grp[\"no\"]\n",
    "Calls_Churn_grp[\"Churn_perc\"]=round(Calls_Churn_grp[\"yes\"]/Calls_Churn_grp[\"Total\"]*100,2)\n",
    "Calls_Churn_grp"
   ]
  },
  {
   "cell_type": "code",
   "execution_count": 7,
   "metadata": {},
   "outputs": [
    {
     "data": {
      "text/plain": [
       "<matplotlib.axes._subplots.AxesSubplot at 0x2199e070a08>"
      ]
     },
     "execution_count": 7,
     "metadata": {},
     "output_type": "execute_result"
    },
    {
     "data": {
      "image/png": "[encoded data removed]",
      "text/plain": [
       "<Figure size 432x288 with 1 Axes>"
      ]
     },
     "metadata": {
      "needs_background": "light"
     },
     "output_type": "display_data"
    }
   ],
   "source": [
    "# As we can below from 4 calls on more than half cancel their plans. Therefore lets create a feature called \"CS_Calls_Range\" wihch takes \"\"<4\" or \"\">=4\"\n",
    "Calls_Churn_grp[\"Churn_perc\"].plot(kind='line')"
   ]
  },
  {
   "cell_type": "code",
   "execution_count": 8,
   "metadata": {},
   "outputs": [],
   "source": [
    "df[\"CS_Calls_Range\"]=np.where(df[\"number_customer_service_calls\"]<4,\"0-3\",\"4-7\")"
   ]
  },
  {
   "cell_type": "code",
   "execution_count": 9,
   "metadata": {},
   "outputs": [
    {
     "data": {
      "image/png": "[encoded data removed]",
      "text/plain": [
       "<Figure size 432x288 with 1 Axes>"
      ]
     },
     "metadata": {
      "needs_background": "light"
     },
     "output_type": "display_data"
    }
   ],
   "source": [
    "# At first there is no correlation between account_length and churns\n",
    "sns.barplot(x = \"churn\", y = \"account_length\", data = df);"
   ]
  },
  {
   "cell_type": "code",
   "execution_count": 10,
   "metadata": {},
   "outputs": [
    {
     "data": {
      "image/png": "[encoded data removed]",
      "text/plain": [
       "<Figure size 432x288 with 1 Axes>"
      ]
     },
     "metadata": {
      "needs_background": "light"
     },
     "output_type": "display_data"
    }
   ],
   "source": [
    "# barplot\n",
    "sns.barplot(x = \"voice_mail_plan\", y = \"number_vmail_messages\", hue = \"churn\", data = df);"
   ]
  },
  {
   "cell_type": "code",
   "execution_count": 11,
   "metadata": {},
   "outputs": [
    {
     "data": {
      "text/html": [
       "<div>\n",
       "<style scoped>\n",
       "    .dataframe tbody tr th:only-of-type {\n",
       "        vertical-align: middle;\n",
       "    }\n",
       "\n",
       "    .dataframe tbody tr th {\n",
       "        vertical-align: top;\n",
       "    }\n",
       "\n",
       "    .dataframe thead th {\n",
       "        text-align: right;\n",
       "    }\n",
       "</style>\n",
       "<table border=\"1\" class=\"dataframe\">\n",
       "  <thead>\n",
       "    <tr style=\"text-align: right;\">\n",
       "      <th></th>\n",
       "      <th>state</th>\n",
       "      <th>account_length</th>\n",
       "      <th>area_code</th>\n",
       "      <th>international_plan</th>\n",
       "      <th>voice_mail_plan</th>\n",
       "      <th>number_vmail_messages</th>\n",
       "      <th>total_day_minutes</th>\n",
       "      <th>total_day_calls</th>\n",
       "      <th>total_day_charge</th>\n",
       "      <th>total_eve_minutes</th>\n",
       "      <th>...</th>\n",
       "      <th>total_intl_minutes</th>\n",
       "      <th>total_intl_calls</th>\n",
       "      <th>total_intl_charge</th>\n",
       "      <th>number_customer_service_calls</th>\n",
       "      <th>churn</th>\n",
       "      <th>counter</th>\n",
       "      <th>CS_Calls_Range</th>\n",
       "      <th>total_day_min_per_call</th>\n",
       "      <th>total_eve_min_per_call</th>\n",
       "      <th>total_night_min_per_call</th>\n",
       "    </tr>\n",
       "  </thead>\n",
       "  <tbody>\n",
       "    <tr>\n",
       "      <th>0</th>\n",
       "      <td>HI</td>\n",
       "      <td>101</td>\n",
       "      <td>area_code_510</td>\n",
       "      <td>no</td>\n",
       "      <td>no</td>\n",
       "      <td>0</td>\n",
       "      <td>70.9</td>\n",
       "      <td>123</td>\n",
       "      <td>12.05</td>\n",
       "      <td>211.9</td>\n",
       "      <td>...</td>\n",
       "      <td>10.6</td>\n",
       "      <td>3</td>\n",
       "      <td>2.86</td>\n",
       "      <td>3</td>\n",
       "      <td>no</td>\n",
       "      <td>1</td>\n",
       "      <td>0-3</td>\n",
       "      <td>0.576423</td>\n",
       "      <td>2.902740</td>\n",
       "      <td>3.232877</td>\n",
       "    </tr>\n",
       "    <tr>\n",
       "      <th>1</th>\n",
       "      <td>MT</td>\n",
       "      <td>137</td>\n",
       "      <td>area_code_510</td>\n",
       "      <td>no</td>\n",
       "      <td>no</td>\n",
       "      <td>0</td>\n",
       "      <td>223.6</td>\n",
       "      <td>86</td>\n",
       "      <td>38.01</td>\n",
       "      <td>244.8</td>\n",
       "      <td>...</td>\n",
       "      <td>9.5</td>\n",
       "      <td>7</td>\n",
       "      <td>2.57</td>\n",
       "      <td>0</td>\n",
       "      <td>no</td>\n",
       "      <td>1</td>\n",
       "      <td>0-3</td>\n",
       "      <td>2.600000</td>\n",
       "      <td>1.761151</td>\n",
       "      <td>1.162963</td>\n",
       "    </tr>\n",
       "    <tr>\n",
       "      <th>2</th>\n",
       "      <td>OH</td>\n",
       "      <td>103</td>\n",
       "      <td>area_code_408</td>\n",
       "      <td>no</td>\n",
       "      <td>yes</td>\n",
       "      <td>29</td>\n",
       "      <td>294.7</td>\n",
       "      <td>95</td>\n",
       "      <td>50.10</td>\n",
       "      <td>237.3</td>\n",
       "      <td>...</td>\n",
       "      <td>13.7</td>\n",
       "      <td>6</td>\n",
       "      <td>3.70</td>\n",
       "      <td>1</td>\n",
       "      <td>no</td>\n",
       "      <td>1</td>\n",
       "      <td>0-3</td>\n",
       "      <td>3.102105</td>\n",
       "      <td>2.260000</td>\n",
       "      <td>2.364567</td>\n",
       "    </tr>\n",
       "    <tr>\n",
       "      <th>3</th>\n",
       "      <td>NM</td>\n",
       "      <td>99</td>\n",
       "      <td>area_code_415</td>\n",
       "      <td>no</td>\n",
       "      <td>no</td>\n",
       "      <td>0</td>\n",
       "      <td>216.8</td>\n",
       "      <td>123</td>\n",
       "      <td>36.86</td>\n",
       "      <td>126.4</td>\n",
       "      <td>...</td>\n",
       "      <td>15.7</td>\n",
       "      <td>2</td>\n",
       "      <td>4.24</td>\n",
       "      <td>1</td>\n",
       "      <td>no</td>\n",
       "      <td>1</td>\n",
       "      <td>0-3</td>\n",
       "      <td>1.762602</td>\n",
       "      <td>1.436364</td>\n",
       "      <td>2.690244</td>\n",
       "    </tr>\n",
       "    <tr>\n",
       "      <th>4</th>\n",
       "      <td>SC</td>\n",
       "      <td>108</td>\n",
       "      <td>area_code_415</td>\n",
       "      <td>no</td>\n",
       "      <td>no</td>\n",
       "      <td>0</td>\n",
       "      <td>197.4</td>\n",
       "      <td>78</td>\n",
       "      <td>33.56</td>\n",
       "      <td>124.0</td>\n",
       "      <td>...</td>\n",
       "      <td>7.7</td>\n",
       "      <td>4</td>\n",
       "      <td>2.08</td>\n",
       "      <td>2</td>\n",
       "      <td>no</td>\n",
       "      <td>1</td>\n",
       "      <td>0-3</td>\n",
       "      <td>2.530769</td>\n",
       "      <td>1.227723</td>\n",
       "      <td>1.911215</td>\n",
       "    </tr>\n",
       "    <tr>\n",
       "      <th>...</th>\n",
       "      <td>...</td>\n",
       "      <td>...</td>\n",
       "      <td>...</td>\n",
       "      <td>...</td>\n",
       "      <td>...</td>\n",
       "      <td>...</td>\n",
       "      <td>...</td>\n",
       "      <td>...</td>\n",
       "      <td>...</td>\n",
       "      <td>...</td>\n",
       "      <td>...</td>\n",
       "      <td>...</td>\n",
       "      <td>...</td>\n",
       "      <td>...</td>\n",
       "      <td>...</td>\n",
       "      <td>...</td>\n",
       "      <td>...</td>\n",
       "      <td>...</td>\n",
       "      <td>...</td>\n",
       "      <td>...</td>\n",
       "      <td>...</td>\n",
       "    </tr>\n",
       "    <tr>\n",
       "      <th>1662</th>\n",
       "      <td>HI</td>\n",
       "      <td>50</td>\n",
       "      <td>area_code_408</td>\n",
       "      <td>no</td>\n",
       "      <td>yes</td>\n",
       "      <td>40</td>\n",
       "      <td>235.7</td>\n",
       "      <td>127</td>\n",
       "      <td>40.07</td>\n",
       "      <td>223.0</td>\n",
       "      <td>...</td>\n",
       "      <td>9.9</td>\n",
       "      <td>5</td>\n",
       "      <td>2.67</td>\n",
       "      <td>2</td>\n",
       "      <td>no</td>\n",
       "      <td>1</td>\n",
       "      <td>0-3</td>\n",
       "      <td>1.855906</td>\n",
       "      <td>1.769841</td>\n",
       "      <td>2.564655</td>\n",
       "    </tr>\n",
       "    <tr>\n",
       "      <th>1663</th>\n",
       "      <td>WV</td>\n",
       "      <td>152</td>\n",
       "      <td>area_code_415</td>\n",
       "      <td>no</td>\n",
       "      <td>no</td>\n",
       "      <td>0</td>\n",
       "      <td>184.2</td>\n",
       "      <td>90</td>\n",
       "      <td>31.31</td>\n",
       "      <td>256.8</td>\n",
       "      <td>...</td>\n",
       "      <td>14.7</td>\n",
       "      <td>2</td>\n",
       "      <td>3.97</td>\n",
       "      <td>3</td>\n",
       "      <td>yes</td>\n",
       "      <td>1</td>\n",
       "      <td>0-3</td>\n",
       "      <td>2.046667</td>\n",
       "      <td>3.517808</td>\n",
       "      <td>1.890265</td>\n",
       "    </tr>\n",
       "    <tr>\n",
       "      <th>1664</th>\n",
       "      <td>DC</td>\n",
       "      <td>61</td>\n",
       "      <td>area_code_415</td>\n",
       "      <td>no</td>\n",
       "      <td>no</td>\n",
       "      <td>0</td>\n",
       "      <td>140.6</td>\n",
       "      <td>89</td>\n",
       "      <td>23.90</td>\n",
       "      <td>172.8</td>\n",
       "      <td>...</td>\n",
       "      <td>13.6</td>\n",
       "      <td>4</td>\n",
       "      <td>3.67</td>\n",
       "      <td>1</td>\n",
       "      <td>no</td>\n",
       "      <td>1</td>\n",
       "      <td>0-3</td>\n",
       "      <td>1.579775</td>\n",
       "      <td>1.350000</td>\n",
       "      <td>2.189691</td>\n",
       "    </tr>\n",
       "    <tr>\n",
       "      <th>1665</th>\n",
       "      <td>DC</td>\n",
       "      <td>109</td>\n",
       "      <td>area_code_510</td>\n",
       "      <td>no</td>\n",
       "      <td>no</td>\n",
       "      <td>0</td>\n",
       "      <td>188.8</td>\n",
       "      <td>67</td>\n",
       "      <td>32.10</td>\n",
       "      <td>171.7</td>\n",
       "      <td>...</td>\n",
       "      <td>8.5</td>\n",
       "      <td>6</td>\n",
       "      <td>2.30</td>\n",
       "      <td>0</td>\n",
       "      <td>no</td>\n",
       "      <td>1</td>\n",
       "      <td>0-3</td>\n",
       "      <td>2.817910</td>\n",
       "      <td>1.866304</td>\n",
       "      <td>2.521348</td>\n",
       "    </tr>\n",
       "    <tr>\n",
       "      <th>1666</th>\n",
       "      <td>VT</td>\n",
       "      <td>86</td>\n",
       "      <td>area_code_415</td>\n",
       "      <td>no</td>\n",
       "      <td>yes</td>\n",
       "      <td>34</td>\n",
       "      <td>129.4</td>\n",
       "      <td>102</td>\n",
       "      <td>22.00</td>\n",
       "      <td>267.1</td>\n",
       "      <td>...</td>\n",
       "      <td>9.3</td>\n",
       "      <td>16</td>\n",
       "      <td>2.51</td>\n",
       "      <td>0</td>\n",
       "      <td>no</td>\n",
       "      <td>1</td>\n",
       "      <td>0-3</td>\n",
       "      <td>1.268627</td>\n",
       "      <td>2.568269</td>\n",
       "      <td>1.548000</td>\n",
       "    </tr>\n",
       "  </tbody>\n",
       "</table>\n",
       "<p>1667 rows × 25 columns</p>\n",
       "</div>"
      ],
      "text/plain": [
       "     state  account_length      area_code international_plan voice_mail_plan  \\\n",
       "0       HI             101  area_code_510                 no              no   \n",
       "1       MT             137  area_code_510                 no              no   \n",
       "2       OH             103  area_code_408                 no             yes   \n",
       "3       NM              99  area_code_415                 no              no   \n",
       "4       SC             108  area_code_415                 no              no   \n",
       "...    ...             ...            ...                ...             ...   \n",
       "1662    HI              50  area_code_408                 no             yes   \n",
       "1663    WV             152  area_code_415                 no              no   \n",
       "1664    DC              61  area_code_415                 no              no   \n",
       "1665    DC             109  area_code_510                 no              no   \n",
       "1666    VT              86  area_code_415                 no             yes   \n",
       "\n",
       "      number_vmail_messages  total_day_minutes  total_day_calls  \\\n",
       "0                         0               70.9              123   \n",
       "1                         0              223.6               86   \n",
       "2                        29              294.7               95   \n",
       "3                         0              216.8              123   \n",
       "4                         0              197.4               78   \n",
       "...                     ...                ...              ...   \n",
       "1662                     40              235.7              127   \n",
       "1663                      0              184.2               90   \n",
       "1664                      0              140.6               89   \n",
       "1665                      0              188.8               67   \n",
       "1666                     34              129.4              102   \n",
       "\n",
       "      total_day_charge  total_eve_minutes  ...  total_intl_minutes  \\\n",
       "0                12.05              211.9  ...                10.6   \n",
       "1                38.01              244.8  ...                 9.5   \n",
       "2                50.10              237.3  ...                13.7   \n",
       "3                36.86              126.4  ...                15.7   \n",
       "4                33.56              124.0  ...                 7.7   \n",
       "...                ...                ...  ...                 ...   \n",
       "1662             40.07              223.0  ...                 9.9   \n",
       "1663             31.31              256.8  ...                14.7   \n",
       "1664             23.90              172.8  ...                13.6   \n",
       "1665             32.10              171.7  ...                 8.5   \n",
       "1666             22.00              267.1  ...                 9.3   \n",
       "\n",
       "      total_intl_calls  total_intl_charge  number_customer_service_calls  \\\n",
       "0                    3               2.86                              3   \n",
       "1                    7               2.57                              0   \n",
       "2                    6               3.70                              1   \n",
       "3                    2               4.24                              1   \n",
       "4                    4               2.08                              2   \n",
       "...                ...                ...                            ...   \n",
       "1662                 5               2.67                              2   \n",
       "1663                 2               3.97                              3   \n",
       "1664                 4               3.67                              1   \n",
       "1665                 6               2.30                              0   \n",
       "1666                16               2.51                              0   \n",
       "\n",
       "      churn  counter  CS_Calls_Range  total_day_min_per_call  \\\n",
       "0        no        1             0-3                0.576423   \n",
       "1        no        1             0-3                2.600000   \n",
       "2        no        1             0-3                3.102105   \n",
       "3        no        1             0-3                1.762602   \n",
       "4        no        1             0-3                2.530769   \n",
       "...     ...      ...             ...                     ...   \n",
       "1662     no        1             0-3                1.855906   \n",
       "1663    yes        1             0-3                2.046667   \n",
       "1664     no        1             0-3                1.579775   \n",
       "1665     no        1             0-3                2.817910   \n",
       "1666     no        1             0-3                1.268627   \n",
       "\n",
       "      total_eve_min_per_call total_night_min_per_call  \n",
       "0                   2.902740                 3.232877  \n",
       "1                   1.761151                 1.162963  \n",
       "2                   2.260000                 2.364567  \n",
       "3                   1.436364                 2.690244  \n",
       "4                   1.227723                 1.911215  \n",
       "...                      ...                      ...  \n",
       "1662                1.769841                 2.564655  \n",
       "1663                3.517808                 1.890265  \n",
       "1664                1.350000                 2.189691  \n",
       "1665                1.866304                 2.521348  \n",
       "1666                2.568269                 1.548000  \n",
       "\n",
       "[1667 rows x 25 columns]"
      ]
     },
     "execution_count": 11,
     "metadata": {},
     "output_type": "execute_result"
    }
   ],
   "source": [
    "df[\"total_day_min_per_call\"]=df[\"total_day_minutes\"]/df[\"total_day_calls\"]\n",
    "df[\"total_eve_min_per_call\"]=df[\"total_eve_minutes\"]/df[\"total_eve_calls\"]\n",
    "df[\"total_night_min_per_call\"]=df[\"total_night_minutes\"]/df[\"total_night_calls\"]\n",
    "df"
   ]
  },
  {
   "cell_type": "code",
   "execution_count": 12,
   "metadata": {},
   "outputs": [
    {
     "data": {
      "text/html": [
       "<div>\n",
       "<style scoped>\n",
       "    .dataframe tbody tr th:only-of-type {\n",
       "        vertical-align: middle;\n",
       "    }\n",
       "\n",
       "    .dataframe tbody tr th {\n",
       "        vertical-align: top;\n",
       "    }\n",
       "\n",
       "    .dataframe thead th {\n",
       "        text-align: right;\n",
       "    }\n",
       "</style>\n",
       "<table border=\"1\" class=\"dataframe\">\n",
       "  <thead>\n",
       "    <tr style=\"text-align: right;\">\n",
       "      <th></th>\n",
       "      <th>state</th>\n",
       "      <th>account_length</th>\n",
       "      <th>area_code</th>\n",
       "      <th>international_plan</th>\n",
       "      <th>voice_mail_plan</th>\n",
       "      <th>number_vmail_messages</th>\n",
       "      <th>total_day_minutes</th>\n",
       "      <th>total_day_calls</th>\n",
       "      <th>total_day_charge</th>\n",
       "      <th>total_eve_minutes</th>\n",
       "      <th>...</th>\n",
       "      <th>total_intl_calls</th>\n",
       "      <th>total_intl_charge</th>\n",
       "      <th>number_customer_service_calls</th>\n",
       "      <th>churn</th>\n",
       "      <th>counter</th>\n",
       "      <th>CS_Calls_Range</th>\n",
       "      <th>total_day_min_per_call</th>\n",
       "      <th>total_eve_min_per_call</th>\n",
       "      <th>total_night_min_per_call</th>\n",
       "      <th>highest_period_minutes</th>\n",
       "    </tr>\n",
       "  </thead>\n",
       "  <tbody>\n",
       "    <tr>\n",
       "      <th>0</th>\n",
       "      <td>HI</td>\n",
       "      <td>101</td>\n",
       "      <td>area_code_510</td>\n",
       "      <td>no</td>\n",
       "      <td>no</td>\n",
       "      <td>0</td>\n",
       "      <td>70.9</td>\n",
       "      <td>123</td>\n",
       "      <td>12.05</td>\n",
       "      <td>211.9</td>\n",
       "      <td>...</td>\n",
       "      <td>3</td>\n",
       "      <td>2.86</td>\n",
       "      <td>3</td>\n",
       "      <td>no</td>\n",
       "      <td>1</td>\n",
       "      <td>0-3</td>\n",
       "      <td>0.576423</td>\n",
       "      <td>2.902740</td>\n",
       "      <td>3.232877</td>\n",
       "      <td>night</td>\n",
       "    </tr>\n",
       "    <tr>\n",
       "      <th>1</th>\n",
       "      <td>MT</td>\n",
       "      <td>137</td>\n",
       "      <td>area_code_510</td>\n",
       "      <td>no</td>\n",
       "      <td>no</td>\n",
       "      <td>0</td>\n",
       "      <td>223.6</td>\n",
       "      <td>86</td>\n",
       "      <td>38.01</td>\n",
       "      <td>244.8</td>\n",
       "      <td>...</td>\n",
       "      <td>7</td>\n",
       "      <td>2.57</td>\n",
       "      <td>0</td>\n",
       "      <td>no</td>\n",
       "      <td>1</td>\n",
       "      <td>0-3</td>\n",
       "      <td>2.600000</td>\n",
       "      <td>1.761151</td>\n",
       "      <td>1.162963</td>\n",
       "      <td>day</td>\n",
       "    </tr>\n",
       "    <tr>\n",
       "      <th>2</th>\n",
       "      <td>OH</td>\n",
       "      <td>103</td>\n",
       "      <td>area_code_408</td>\n",
       "      <td>no</td>\n",
       "      <td>yes</td>\n",
       "      <td>29</td>\n",
       "      <td>294.7</td>\n",
       "      <td>95</td>\n",
       "      <td>50.10</td>\n",
       "      <td>237.3</td>\n",
       "      <td>...</td>\n",
       "      <td>6</td>\n",
       "      <td>3.70</td>\n",
       "      <td>1</td>\n",
       "      <td>no</td>\n",
       "      <td>1</td>\n",
       "      <td>0-3</td>\n",
       "      <td>3.102105</td>\n",
       "      <td>2.260000</td>\n",
       "      <td>2.364567</td>\n",
       "      <td>day</td>\n",
       "    </tr>\n",
       "    <tr>\n",
       "      <th>3</th>\n",
       "      <td>NM</td>\n",
       "      <td>99</td>\n",
       "      <td>area_code_415</td>\n",
       "      <td>no</td>\n",
       "      <td>no</td>\n",
       "      <td>0</td>\n",
       "      <td>216.8</td>\n",
       "      <td>123</td>\n",
       "      <td>36.86</td>\n",
       "      <td>126.4</td>\n",
       "      <td>...</td>\n",
       "      <td>2</td>\n",
       "      <td>4.24</td>\n",
       "      <td>1</td>\n",
       "      <td>no</td>\n",
       "      <td>1</td>\n",
       "      <td>0-3</td>\n",
       "      <td>1.762602</td>\n",
       "      <td>1.436364</td>\n",
       "      <td>2.690244</td>\n",
       "      <td>night</td>\n",
       "    </tr>\n",
       "    <tr>\n",
       "      <th>4</th>\n",
       "      <td>SC</td>\n",
       "      <td>108</td>\n",
       "      <td>area_code_415</td>\n",
       "      <td>no</td>\n",
       "      <td>no</td>\n",
       "      <td>0</td>\n",
       "      <td>197.4</td>\n",
       "      <td>78</td>\n",
       "      <td>33.56</td>\n",
       "      <td>124.0</td>\n",
       "      <td>...</td>\n",
       "      <td>4</td>\n",
       "      <td>2.08</td>\n",
       "      <td>2</td>\n",
       "      <td>no</td>\n",
       "      <td>1</td>\n",
       "      <td>0-3</td>\n",
       "      <td>2.530769</td>\n",
       "      <td>1.227723</td>\n",
       "      <td>1.911215</td>\n",
       "      <td>day</td>\n",
       "    </tr>\n",
       "    <tr>\n",
       "      <th>...</th>\n",
       "      <td>...</td>\n",
       "      <td>...</td>\n",
       "      <td>...</td>\n",
       "      <td>...</td>\n",
       "      <td>...</td>\n",
       "      <td>...</td>\n",
       "      <td>...</td>\n",
       "      <td>...</td>\n",
       "      <td>...</td>\n",
       "      <td>...</td>\n",
       "      <td>...</td>\n",
       "      <td>...</td>\n",
       "      <td>...</td>\n",
       "      <td>...</td>\n",
       "      <td>...</td>\n",
       "      <td>...</td>\n",
       "      <td>...</td>\n",
       "      <td>...</td>\n",
       "      <td>...</td>\n",
       "      <td>...</td>\n",
       "      <td>...</td>\n",
       "    </tr>\n",
       "    <tr>\n",
       "      <th>1662</th>\n",
       "      <td>HI</td>\n",
       "      <td>50</td>\n",
       "      <td>area_code_408</td>\n",
       "      <td>no</td>\n",
       "      <td>yes</td>\n",
       "      <td>40</td>\n",
       "      <td>235.7</td>\n",
       "      <td>127</td>\n",
       "      <td>40.07</td>\n",
       "      <td>223.0</td>\n",
       "      <td>...</td>\n",
       "      <td>5</td>\n",
       "      <td>2.67</td>\n",
       "      <td>2</td>\n",
       "      <td>no</td>\n",
       "      <td>1</td>\n",
       "      <td>0-3</td>\n",
       "      <td>1.855906</td>\n",
       "      <td>1.769841</td>\n",
       "      <td>2.564655</td>\n",
       "      <td>night</td>\n",
       "    </tr>\n",
       "    <tr>\n",
       "      <th>1663</th>\n",
       "      <td>WV</td>\n",
       "      <td>152</td>\n",
       "      <td>area_code_415</td>\n",
       "      <td>no</td>\n",
       "      <td>no</td>\n",
       "      <td>0</td>\n",
       "      <td>184.2</td>\n",
       "      <td>90</td>\n",
       "      <td>31.31</td>\n",
       "      <td>256.8</td>\n",
       "      <td>...</td>\n",
       "      <td>2</td>\n",
       "      <td>3.97</td>\n",
       "      <td>3</td>\n",
       "      <td>yes</td>\n",
       "      <td>1</td>\n",
       "      <td>0-3</td>\n",
       "      <td>2.046667</td>\n",
       "      <td>3.517808</td>\n",
       "      <td>1.890265</td>\n",
       "      <td>eve</td>\n",
       "    </tr>\n",
       "    <tr>\n",
       "      <th>1664</th>\n",
       "      <td>DC</td>\n",
       "      <td>61</td>\n",
       "      <td>area_code_415</td>\n",
       "      <td>no</td>\n",
       "      <td>no</td>\n",
       "      <td>0</td>\n",
       "      <td>140.6</td>\n",
       "      <td>89</td>\n",
       "      <td>23.90</td>\n",
       "      <td>172.8</td>\n",
       "      <td>...</td>\n",
       "      <td>4</td>\n",
       "      <td>3.67</td>\n",
       "      <td>1</td>\n",
       "      <td>no</td>\n",
       "      <td>1</td>\n",
       "      <td>0-3</td>\n",
       "      <td>1.579775</td>\n",
       "      <td>1.350000</td>\n",
       "      <td>2.189691</td>\n",
       "      <td>night</td>\n",
       "    </tr>\n",
       "    <tr>\n",
       "      <th>1665</th>\n",
       "      <td>DC</td>\n",
       "      <td>109</td>\n",
       "      <td>area_code_510</td>\n",
       "      <td>no</td>\n",
       "      <td>no</td>\n",
       "      <td>0</td>\n",
       "      <td>188.8</td>\n",
       "      <td>67</td>\n",
       "      <td>32.10</td>\n",
       "      <td>171.7</td>\n",
       "      <td>...</td>\n",
       "      <td>6</td>\n",
       "      <td>2.30</td>\n",
       "      <td>0</td>\n",
       "      <td>no</td>\n",
       "      <td>1</td>\n",
       "      <td>0-3</td>\n",
       "      <td>2.817910</td>\n",
       "      <td>1.866304</td>\n",
       "      <td>2.521348</td>\n",
       "      <td>day</td>\n",
       "    </tr>\n",
       "    <tr>\n",
       "      <th>1666</th>\n",
       "      <td>VT</td>\n",
       "      <td>86</td>\n",
       "      <td>area_code_415</td>\n",
       "      <td>no</td>\n",
       "      <td>yes</td>\n",
       "      <td>34</td>\n",
       "      <td>129.4</td>\n",
       "      <td>102</td>\n",
       "      <td>22.00</td>\n",
       "      <td>267.1</td>\n",
       "      <td>...</td>\n",
       "      <td>16</td>\n",
       "      <td>2.51</td>\n",
       "      <td>0</td>\n",
       "      <td>no</td>\n",
       "      <td>1</td>\n",
       "      <td>0-3</td>\n",
       "      <td>1.268627</td>\n",
       "      <td>2.568269</td>\n",
       "      <td>1.548000</td>\n",
       "      <td>eve</td>\n",
       "    </tr>\n",
       "  </tbody>\n",
       "</table>\n",
       "<p>1667 rows × 26 columns</p>\n",
       "</div>"
      ],
      "text/plain": [
       "     state  account_length      area_code international_plan voice_mail_plan  \\\n",
       "0       HI             101  area_code_510                 no              no   \n",
       "1       MT             137  area_code_510                 no              no   \n",
       "2       OH             103  area_code_408                 no             yes   \n",
       "3       NM              99  area_code_415                 no              no   \n",
       "4       SC             108  area_code_415                 no              no   \n",
       "...    ...             ...            ...                ...             ...   \n",
       "1662    HI              50  area_code_408                 no             yes   \n",
       "1663    WV             152  area_code_415                 no              no   \n",
       "1664    DC              61  area_code_415                 no              no   \n",
       "1665    DC             109  area_code_510                 no              no   \n",
       "1666    VT              86  area_code_415                 no             yes   \n",
       "\n",
       "      number_vmail_messages  total_day_minutes  total_day_calls  \\\n",
       "0                         0               70.9              123   \n",
       "1                         0              223.6               86   \n",
       "2                        29              294.7               95   \n",
       "3                         0              216.8              123   \n",
       "4                         0              197.4               78   \n",
       "...                     ...                ...              ...   \n",
       "1662                     40              235.7              127   \n",
       "1663                      0              184.2               90   \n",
       "1664                      0              140.6               89   \n",
       "1665                      0              188.8               67   \n",
       "1666                     34              129.4              102   \n",
       "\n",
       "      total_day_charge  total_eve_minutes  ...  total_intl_calls  \\\n",
       "0                12.05              211.9  ...                 3   \n",
       "1                38.01              244.8  ...                 7   \n",
       "2                50.10              237.3  ...                 6   \n",
       "3                36.86              126.4  ...                 2   \n",
       "4                33.56              124.0  ...                 4   \n",
       "...                ...                ...  ...               ...   \n",
       "1662             40.07              223.0  ...                 5   \n",
       "1663             31.31              256.8  ...                 2   \n",
       "1664             23.90              172.8  ...                 4   \n",
       "1665             32.10              171.7  ...                 6   \n",
       "1666             22.00              267.1  ...                16   \n",
       "\n",
       "      total_intl_charge  number_customer_service_calls  churn  counter  \\\n",
       "0                  2.86                              3     no        1   \n",
       "1                  2.57                              0     no        1   \n",
       "2                  3.70                              1     no        1   \n",
       "3                  4.24                              1     no        1   \n",
       "4                  2.08                              2     no        1   \n",
       "...                 ...                            ...    ...      ...   \n",
       "1662               2.67                              2     no        1   \n",
       "1663               3.97                              3    yes        1   \n",
       "1664               3.67                              1     no        1   \n",
       "1665               2.30                              0     no        1   \n",
       "1666               2.51                              0     no        1   \n",
       "\n",
       "      CS_Calls_Range  total_day_min_per_call  total_eve_min_per_call  \\\n",
       "0                0-3                0.576423                2.902740   \n",
       "1                0-3                2.600000                1.761151   \n",
       "2                0-3                3.102105                2.260000   \n",
       "3                0-3                1.762602                1.436364   \n",
       "4                0-3                2.530769                1.227723   \n",
       "...              ...                     ...                     ...   \n",
       "1662             0-3                1.855906                1.769841   \n",
       "1663             0-3                2.046667                3.517808   \n",
       "1664             0-3                1.579775                1.350000   \n",
       "1665             0-3                2.817910                1.866304   \n",
       "1666             0-3                1.268627                2.568269   \n",
       "\n",
       "      total_night_min_per_call highest_period_minutes  \n",
       "0                     3.232877                  night  \n",
       "1                     1.162963                    day  \n",
       "2                     2.364567                    day  \n",
       "3                     2.690244                  night  \n",
       "4                     1.911215                    day  \n",
       "...                        ...                    ...  \n",
       "1662                  2.564655                  night  \n",
       "1663                  1.890265                    eve  \n",
       "1664                  2.189691                  night  \n",
       "1665                  2.521348                    day  \n",
       "1666                  1.548000                    eve  \n",
       "\n",
       "[1667 rows x 26 columns]"
      ]
     },
     "execution_count": 12,
     "metadata": {},
     "output_type": "execute_result"
    }
   ],
   "source": [
    "df[\"highest_period_minutes\"]=df[[\"total_day_min_per_call\",\"total_eve_min_per_call\",\"total_night_min_per_call\"]].idxmax(axis=1)\n",
    "df[[\"highest_period_minutes\"]]=df[[\"highest_period_minutes\"]].replace([\"total_day_min_per_call\",\"total_eve_min_per_call\",\"total_night_min_per_call\"], [\"day\",\"eve\",\"night\"])\n",
    "df\n"
   ]
  },
  {
   "cell_type": "code",
   "execution_count": 13,
   "metadata": {},
   "outputs": [
    {
     "data": {
      "image/png": "[encoded data removed]",
      "text/plain": [
       "<Figure size 413.25x360 with 1 Axes>"
      ]
     },
     "metadata": {
      "needs_background": "light"
     },
     "output_type": "display_data"
    }
   ],
   "source": [
    "# barplot\n",
    "sns.catplot(x = \"highest_period_minutes\", kind=\"count\", hue = \"churn\", data = df);"
   ]
  },
  {
   "cell_type": "code",
   "execution_count": 14,
   "metadata": {},
   "outputs": [
    {
     "data": {
      "text/plain": [
       "array([[<matplotlib.axes._subplots.AxesSubplot object at 0x000002199F50EB48>]],\n",
       "      dtype=object)"
      ]
     },
     "execution_count": 14,
     "metadata": {},
     "output_type": "execute_result"
    },
    {
     "data": {
      "image/png": "[encoded data removed]",
      "text/plain": [
       "<Figure size 432x288 with 1 Axes>"
      ]
     },
     "metadata": {
      "needs_background": "light"
     },
     "output_type": "display_data"
    }
   ],
   "source": [
    "churn=df[df[\"churn\"]==\"yes\"][[\"total_day_minutes\",\"total_day_charge\",\"total_eve_minutes\",\"total_eve_charge\",\"total_night_minutes\",\"total_night_charge\"]]\n",
    "churn[\"night_cost\"]=churn[\"total_night_minutes\"]/churn[\"total_night_charge\"]\n",
    "churn.hist(\"night_cost\")"
   ]
  },
  {
   "cell_type": "code",
   "execution_count": 15,
   "metadata": {},
   "outputs": [
    {
     "data": {
      "text/plain": [
       "array([[<matplotlib.axes._subplots.AxesSubplot object at 0x000002199F554408>]],\n",
       "      dtype=object)"
      ]
     },
     "execution_count": 15,
     "metadata": {},
     "output_type": "execute_result"
    },
    {
     "data": {
      "image/png": "[encoded data removed]",
      "text/plain": [
       "<Figure size 432x288 with 1 Axes>"
      ]
     },
     "metadata": {
      "needs_background": "light"
     },
     "output_type": "display_data"
    }
   ],
   "source": [
    "churn=df[df[\"churn\"]==\"no\"][[\"total_day_minutes\",\"total_day_charge\",\"total_eve_minutes\",\"total_eve_charge\",\"total_night_minutes\",\"total_night_charge\"]]\n",
    "churn[\"night_cost\"]=churn[\"total_night_minutes\"]/churn[\"total_night_charge\"]\n",
    "churn.hist(\"night_cost\")"
   ]
  },
  {
   "cell_type": "code",
   "execution_count": 16,
   "metadata": {},
   "outputs": [
    {
     "data": {
      "image/png": "[encoded data removed]",
      "text/plain": [
       "<Figure size 773.25x360 with 2 Axes>"
      ]
     },
     "metadata": {
      "needs_background": "light"
     },
     "output_type": "display_data"
    }
   ],
   "source": [
    "# barplot\n",
    "sns.catplot(x = \"highest_period_minutes\", kind=\"count\", hue = \"churn\", col=\"international_plan\", data = df);"
   ]
  },
  {
   "cell_type": "code",
   "execution_count": 17,
   "metadata": {},
   "outputs": [
    {
     "data": {
      "text/html": [
       "<div>\n",
       "<style scoped>\n",
       "    .dataframe tbody tr th:only-of-type {\n",
       "        vertical-align: middle;\n",
       "    }\n",
       "\n",
       "    .dataframe tbody tr th {\n",
       "        vertical-align: top;\n",
       "    }\n",
       "\n",
       "    .dataframe thead th {\n",
       "        text-align: right;\n",
       "    }\n",
       "</style>\n",
       "<table border=\"1\" class=\"dataframe\">\n",
       "  <thead>\n",
       "    <tr style=\"text-align: right;\">\n",
       "      <th>churn</th>\n",
       "      <th>no</th>\n",
       "      <th>yes</th>\n",
       "    </tr>\n",
       "    <tr>\n",
       "      <th>CS_Calls_Range</th>\n",
       "      <th></th>\n",
       "      <th></th>\n",
       "    </tr>\n",
       "  </thead>\n",
       "  <tbody>\n",
       "    <tr>\n",
       "      <th>0-3</th>\n",
       "      <td>85</td>\n",
       "      <td>52</td>\n",
       "    </tr>\n",
       "    <tr>\n",
       "      <th>4-7</th>\n",
       "      <td>3</td>\n",
       "      <td>10</td>\n",
       "    </tr>\n",
       "  </tbody>\n",
       "</table>\n",
       "</div>"
      ],
      "text/plain": [
       "churn           no  yes\n",
       "CS_Calls_Range         \n",
       "0-3             85   52\n",
       "4-7              3   10"
      ]
     },
     "execution_count": 17,
     "metadata": {},
     "output_type": "execute_result"
    }
   ],
   "source": [
    "df[df[\"international_plan\"]==\"yes\"].pivot_table(values=\"counter\",index=\"CS_Calls_Range\",columns=[\"churn\"],aggfunc=\"sum\",fill_value=0)"
   ]
  },
  {
   "cell_type": "code",
   "execution_count": 18,
   "metadata": {},
   "outputs": [
    {
     "data": {
      "text/html": [
       "<div>\n",
       "<style scoped>\n",
       "    .dataframe tbody tr th:only-of-type {\n",
       "        vertical-align: middle;\n",
       "    }\n",
       "\n",
       "    .dataframe tbody tr th {\n",
       "        vertical-align: top;\n",
       "    }\n",
       "\n",
       "    .dataframe thead tr th {\n",
       "        text-align: left;\n",
       "    }\n",
       "\n",
       "    .dataframe thead tr:last-of-type th {\n",
       "        text-align: right;\n",
       "    }\n",
       "</style>\n",
       "<table border=\"1\" class=\"dataframe\">\n",
       "  <thead>\n",
       "    <tr>\n",
       "      <th>international_plan</th>\n",
       "      <th colspan=\"2\" halign=\"left\">no</th>\n",
       "      <th colspan=\"2\" halign=\"left\">yes</th>\n",
       "    </tr>\n",
       "    <tr>\n",
       "      <th>churn</th>\n",
       "      <th>no</th>\n",
       "      <th>yes</th>\n",
       "      <th>no</th>\n",
       "      <th>yes</th>\n",
       "    </tr>\n",
       "    <tr>\n",
       "      <th>CS_Calls_Range</th>\n",
       "      <th></th>\n",
       "      <th></th>\n",
       "      <th></th>\n",
       "      <th></th>\n",
       "    </tr>\n",
       "  </thead>\n",
       "  <tbody>\n",
       "    <tr>\n",
       "      <th>0-3</th>\n",
       "      <td>1289</td>\n",
       "      <td>109</td>\n",
       "      <td>85</td>\n",
       "      <td>52</td>\n",
       "    </tr>\n",
       "    <tr>\n",
       "      <th>4-7</th>\n",
       "      <td>66</td>\n",
       "      <td>53</td>\n",
       "      <td>3</td>\n",
       "      <td>10</td>\n",
       "    </tr>\n",
       "  </tbody>\n",
       "</table>\n",
       "</div>"
      ],
      "text/plain": [
       "international_plan    no      yes    \n",
       "churn                 no  yes  no yes\n",
       "CS_Calls_Range                       \n",
       "0-3                 1289  109  85  52\n",
       "4-7                   66   53   3  10"
      ]
     },
     "execution_count": 18,
     "metadata": {},
     "output_type": "execute_result"
    }
   ],
   "source": [
    "df.pivot_table(values=\"counter\",index=\"CS_Calls_Range\",columns=[\"international_plan\",\"churn\"],aggfunc=\"sum\",fill_value=0)"
   ]
  },
  {
   "cell_type": "code",
   "execution_count": 19,
   "metadata": {},
   "outputs": [
    {
     "data": {
      "text/plain": [
       "<seaborn.axisgrid.FacetGrid at 0x2199f64bf88>"
      ]
     },
     "execution_count": 19,
     "metadata": {},
     "output_type": "execute_result"
    },
    {
     "data": {
      "image/png": "[encoded data removed]",
      "text/plain": [
       "<Figure size 720x720 with 4 Axes>"
      ]
     },
     "metadata": {
      "needs_background": "light"
     },
     "output_type": "display_data"
    }
   ],
   "source": [
    "# Customers who have internacional plan used to cancel more than those haven't\n",
    "g = sns.FacetGrid(df, col=\"CS_Calls_Range\",  row=\"international_plan\",size=5)\n",
    "g.map_dataframe(sns.countplot, x=\"churn\")"
   ]
  },
  {
   "cell_type": "code",
   "execution_count": 20,
   "metadata": {},
   "outputs": [
    {
     "data": {
      "text/html": [
       "<div>\n",
       "<style scoped>\n",
       "    .dataframe tbody tr th:only-of-type {\n",
       "        vertical-align: middle;\n",
       "    }\n",
       "\n",
       "    .dataframe tbody tr th {\n",
       "        vertical-align: top;\n",
       "    }\n",
       "\n",
       "    .dataframe thead th {\n",
       "        text-align: right;\n",
       "    }\n",
       "</style>\n",
       "<table border=\"1\" class=\"dataframe\">\n",
       "  <thead>\n",
       "    <tr style=\"text-align: right;\">\n",
       "      <th>churn</th>\n",
       "      <th>state</th>\n",
       "      <th>no</th>\n",
       "      <th>yes</th>\n",
       "      <th>total</th>\n",
       "      <th>yes_perc</th>\n",
       "    </tr>\n",
       "  </thead>\n",
       "  <tbody>\n",
       "    <tr>\n",
       "      <th>47</th>\n",
       "      <td>WA</td>\n",
       "      <td>22.0</td>\n",
       "      <td>10.0</td>\n",
       "      <td>32.0</td>\n",
       "      <td>31.2</td>\n",
       "    </tr>\n",
       "    <tr>\n",
       "      <th>4</th>\n",
       "      <td>CA</td>\n",
       "      <td>13.0</td>\n",
       "      <td>5.0</td>\n",
       "      <td>18.0</td>\n",
       "      <td>27.8</td>\n",
       "    </tr>\n",
       "    <tr>\n",
       "      <th>42</th>\n",
       "      <td>TN</td>\n",
       "      <td>27.0</td>\n",
       "      <td>9.0</td>\n",
       "      <td>36.0</td>\n",
       "      <td>25.0</td>\n",
       "    </tr>\n",
       "    <tr>\n",
       "      <th>36</th>\n",
       "      <td>OK</td>\n",
       "      <td>22.0</td>\n",
       "      <td>7.0</td>\n",
       "      <td>29.0</td>\n",
       "      <td>24.1</td>\n",
       "    </tr>\n",
       "    <tr>\n",
       "      <th>49</th>\n",
       "      <td>WV</td>\n",
       "      <td>40.0</td>\n",
       "      <td>12.0</td>\n",
       "      <td>52.0</td>\n",
       "      <td>23.1</td>\n",
       "    </tr>\n",
       "    <tr>\n",
       "      <th>31</th>\n",
       "      <td>NJ</td>\n",
       "      <td>34.0</td>\n",
       "      <td>10.0</td>\n",
       "      <td>44.0</td>\n",
       "      <td>22.7</td>\n",
       "    </tr>\n",
       "    <tr>\n",
       "      <th>26</th>\n",
       "      <td>MT</td>\n",
       "      <td>24.0</td>\n",
       "      <td>7.0</td>\n",
       "      <td>31.0</td>\n",
       "      <td>22.6</td>\n",
       "    </tr>\n",
       "    <tr>\n",
       "      <th>3</th>\n",
       "      <td>AZ</td>\n",
       "      <td>20.0</td>\n",
       "      <td>5.0</td>\n",
       "      <td>25.0</td>\n",
       "      <td>20.0</td>\n",
       "    </tr>\n",
       "    <tr>\n",
       "      <th>12</th>\n",
       "      <td>IA</td>\n",
       "      <td>20.0</td>\n",
       "      <td>5.0</td>\n",
       "      <td>25.0</td>\n",
       "      <td>20.0</td>\n",
       "    </tr>\n",
       "    <tr>\n",
       "      <th>37</th>\n",
       "      <td>OR</td>\n",
       "      <td>29.0</td>\n",
       "      <td>7.0</td>\n",
       "      <td>36.0</td>\n",
       "      <td>19.4</td>\n",
       "    </tr>\n",
       "  </tbody>\n",
       "</table>\n",
       "</div>"
      ],
      "text/plain": [
       "churn state    no   yes  total  yes_perc\n",
       "47       WA  22.0  10.0   32.0      31.2\n",
       "4        CA  13.0   5.0   18.0      27.8\n",
       "42       TN  27.0   9.0   36.0      25.0\n",
       "36       OK  22.0   7.0   29.0      24.1\n",
       "49       WV  40.0  12.0   52.0      23.1\n",
       "31       NJ  34.0  10.0   44.0      22.7\n",
       "26       MT  24.0   7.0   31.0      22.6\n",
       "3        AZ  20.0   5.0   25.0      20.0\n",
       "12       IA  20.0   5.0   25.0      20.0\n",
       "37       OR  29.0   7.0   36.0      19.4"
      ]
     },
     "execution_count": 20,
     "metadata": {},
     "output_type": "execute_result"
    }
   ],
   "source": [
    "churn_state=df.pivot_table(values=\"counter\",index=\"state\",columns=\"churn\", aggfunc='sum').reset_index()\n",
    "churn_state[\"total\"]=churn_state[\"yes\"]+churn_state[\"no\"]\n",
    "churn_state[\"yes_perc\"]=round(churn_state[\"yes\"]/churn_state[\"total\"]*100,1)\n",
    "churn_state=churn_state.sort_values(by=[\"yes_perc\"], ascending=False)\n",
    "churn_state.head(10)"
   ]
  },
  {
   "cell_type": "code",
   "execution_count": 21,
   "metadata": {},
   "outputs": [
    {
     "data": {
      "text/plain": [
       "churn\n",
       "state        object\n",
       "no          float64\n",
       "yes         float64\n",
       "total       float64\n",
       "yes_perc    float64\n",
       "dtype: object"
      ]
     },
     "execution_count": 21,
     "metadata": {},
     "output_type": "execute_result"
    }
   ],
   "source": [
    "churn_state.dtypes"
   ]
  },
  {
   "cell_type": "code",
   "execution_count": 22,
   "metadata": {},
   "outputs": [
    {
     "data": {
      "text/plain": [
       "<matplotlib.axes._subplots.AxesSubplot at 0x2199fc01dc8>"
      ]
     },
     "execution_count": 22,
     "metadata": {},
     "output_type": "execute_result"
    },
    {
     "data": {
      "image/png": "[encoded data removed]",
      "text/plain": [
       "<Figure size 1080x576 with 2 Axes>"
      ]
     },
     "metadata": {
      "needs_background": "light"
     },
     "output_type": "display_data"
    }
   ],
   "source": [
    "fig, ax1 = plt.subplots(figsize=(15,8))\n",
    "\n",
    "sns.barplot(x=\"state\", y=\"total\", data=churn_state, ax=ax1)\n",
    "ax2 = ax1.twinx()\n",
    "sns.lineplot(data = churn_state['yes_perc'].values, marker='o', ax=ax2, color=\"black\")"
   ]
  },
  {
   "cell_type": "code",
   "execution_count": 23,
   "metadata": {},
   "outputs": [],
   "source": [
    "def faixa(valor):\n",
    "    if valor <= 5.0:\n",
    "        return '0-5'\n",
    "    elif valor<=10.0:\n",
    "        return '5-10'\n",
    "    elif valor<=15.0:\n",
    "        return '10-15'\n",
    "    elif valor<=20.0:\n",
    "        return '15-20'\n",
    "    elif valor<=25.0:\n",
    "        return '20-25'\n",
    "    elif valor<=100:\n",
    "        return '>25'\n",
    "    else:\n",
    "        return '0-5'"
   ]
  },
  {
   "cell_type": "code",
   "execution_count": 24,
   "metadata": {},
   "outputs": [],
   "source": [
    "churn_state[\"range_churn\"]=churn_state['yes_perc'].apply(faixa)"
   ]
  },
  {
   "cell_type": "code",
   "execution_count": 25,
   "metadata": {},
   "outputs": [],
   "source": [
    "df=df.merge(churn_state[[\"state\",\"range_churn\"]], on = 'state')"
   ]
  },
  {
   "cell_type": "markdown",
   "metadata": {},
   "source": [
    "# Feature Selection"
   ]
  },
  {
   "cell_type": "code",
   "execution_count": 26,
   "metadata": {},
   "outputs": [
    {
     "data": {
      "text/plain": [
       "Index(['state', 'account_length', 'area_code', 'international_plan',\n",
       "       'voice_mail_plan', 'number_vmail_messages', 'total_day_minutes',\n",
       "       'total_day_calls', 'total_day_charge', 'total_eve_minutes',\n",
       "       'total_eve_calls', 'total_eve_charge', 'total_night_minutes',\n",
       "       'total_night_calls', 'total_night_charge', 'total_intl_minutes',\n",
       "       'total_intl_calls', 'total_intl_charge',\n",
       "       'number_customer_service_calls', 'churn', 'counter', 'CS_Calls_Range',\n",
       "       'total_day_min_per_call', 'total_eve_min_per_call',\n",
       "       'total_night_min_per_call', 'highest_period_minutes', 'range_churn'],\n",
       "      dtype='object')"
      ]
     },
     "execution_count": 26,
     "metadata": {},
     "output_type": "execute_result"
    }
   ],
   "source": [
    "#State\n",
    "#Internacional Plan\n",
    "#number_customer_service_calls\n",
    "df.columns"
   ]
  },
  {
   "cell_type": "code",
   "execution_count": 27,
   "metadata": {},
   "outputs": [],
   "source": [
    "df_FS=df[['range_churn', 'account_length', 'area_code', 'international_plan',\n",
    "       'voice_mail_plan', 'number_vmail_messages', 'total_day_minutes',\n",
    "       'total_day_calls', 'total_day_charge', 'total_eve_minutes',\n",
    "       'total_eve_calls', 'total_eve_charge', 'total_night_minutes',\n",
    "       'total_night_calls', 'total_night_charge', 'total_intl_minutes',\n",
    "       'total_intl_calls', 'total_intl_charge','CS_Calls_Range',\n",
    "       'highest_period_minutes','churn']]"
   ]
  },
  {
   "cell_type": "markdown",
   "metadata": {},
   "source": [
    "# Dataset Transformation"
   ]
  },
  {
   "cell_type": "code",
   "execution_count": 28,
   "metadata": {},
   "outputs": [],
   "source": [
    "from sklearn.preprocessing import OneHotEncoder"
   ]
  },
  {
   "cell_type": "code",
   "execution_count": 29,
   "metadata": {},
   "outputs": [
    {
     "data": {
      "text/plain": [
       "range_churn               object\n",
       "area_code                 object\n",
       "international_plan        object\n",
       "voice_mail_plan           object\n",
       "CS_Calls_Range            object\n",
       "highest_period_minutes    object\n",
       "churn                     object\n",
       "dtype: object"
      ]
     },
     "execution_count": 29,
     "metadata": {},
     "output_type": "execute_result"
    }
   ],
   "source": [
    "df_FS.dtypes[df_FS.dtypes=='object']"
   ]
  },
  {
   "cell_type": "markdown",
   "metadata": {},
   "source": [
    "Columns 'international_plan', 'voice_mail_plan', 'CS_Calls_Range', 'churn' are of binary type, i.e, having 'yes' or 'no' as values. They will be converted to 1 and 0 respectively."
   ]
  },
  {
   "cell_type": "code",
   "execution_count": 30,
   "metadata": {},
   "outputs": [],
   "source": [
    "df_FS[['international_plan']]=df_FS[['international_plan']].replace(['yes','no'], [1,0])\n",
    "df_FS[['voice_mail_plan']]=df_FS[['voice_mail_plan']].replace(['yes','no'], [1,0])\n",
    "df_FS[['churn']]=df_FS[['churn']].replace(['yes','no'], [1,0])"
   ]
  },
  {
   "cell_type": "markdown",
   "metadata": {},
   "source": [
    "Column 'CS_Calls_Range' has '0-3' or '4-7' as values. They will be converted to 1 and 0 respectively."
   ]
  },
  {
   "cell_type": "code",
   "execution_count": 31,
   "metadata": {},
   "outputs": [],
   "source": [
    "df_FS[['CS_Calls_Range']]=df_FS[['CS_Calls_Range']].replace(['0-3','4-7'], [1,0])"
   ]
  },
  {
   "cell_type": "markdown",
   "metadata": {},
   "source": [
    "Column 'area_code' and 'highest_period_minutes' has three possible values. Let's break each feature into 3 binary column."
   ]
  },
  {
   "cell_type": "markdown",
   "metadata": {},
   "source": [
    "    area_code"
   ]
  },
  {
   "cell_type": "code",
   "execution_count": 32,
   "metadata": {},
   "outputs": [],
   "source": [
    "enc = OneHotEncoder(handle_unknown='ignore', categories=[['area_code_510','area_code_408','area_code_415']])\n",
    "enc_cols = enc.fit_transform(df_FS[['area_code']]).toarray().astype('int')\n",
    "enc_df = pd.DataFrame(enc_cols, columns = ['area_code_510','area_code_408','area_code_415'])\n",
    "enc_df\n",
    "df_FS = df_FS.join(enc_df)"
   ]
  },
  {
   "cell_type": "markdown",
   "metadata": {},
   "source": [
    "    highest_period_minutes"
   ]
  },
  {
   "cell_type": "code",
   "execution_count": 33,
   "metadata": {},
   "outputs": [],
   "source": [
    "enc = OneHotEncoder(handle_unknown='ignore', categories=[['night','day','eve']])\n",
    "enc_cols = enc.fit_transform(df_FS[['highest_period_minutes']]).toarray().astype('int')\n",
    "enc_df = pd.DataFrame(enc_cols, columns = ['night','day','eve'])\n",
    "enc_df\n",
    "df_FS = df_FS.join(enc_df)"
   ]
  },
  {
   "cell_type": "markdown",
   "metadata": {},
   "source": [
    "For 'state' feature there are six possible values. The same reasoning from previous cases was used.  "
   ]
  },
  {
   "cell_type": "code",
   "execution_count": 34,
   "metadata": {},
   "outputs": [],
   "source": [
    "enc = OneHotEncoder(handle_unknown='ignore', categories=[['0-5','5-10','10-15','15-20','20-25','>25']])\n",
    "enc_cols = enc.fit_transform(df_FS[['range_churn']]).toarray().astype('int')\n",
    "enc_df = pd.DataFrame(enc_cols, columns = ['0-5','5-10','10-15','15-20','20-25','>25'])\n",
    "enc_df\n",
    "df_FS = df_FS.join(enc_df)"
   ]
  },
  {
   "cell_type": "markdown",
   "metadata": {},
   "source": [
    "For n possible values in a feature we need just n-1 columns to identify all of them. Let's drop one of binares columns native from each feature. "
   ]
  },
  {
   "cell_type": "code",
   "execution_count": 35,
   "metadata": {},
   "outputs": [
    {
     "data": {
      "text/plain": [
       "Index(['range_churn', 'account_length', 'area_code', 'international_plan',\n",
       "       'voice_mail_plan', 'number_vmail_messages', 'total_day_minutes',\n",
       "       'total_day_calls', 'total_day_charge', 'total_eve_minutes',\n",
       "       'total_eve_calls', 'total_eve_charge', 'total_night_minutes',\n",
       "       'total_night_calls', 'total_night_charge', 'total_intl_minutes',\n",
       "       'total_intl_calls', 'total_intl_charge', 'CS_Calls_Range',\n",
       "       'highest_period_minutes', 'churn', 'area_code_510', 'area_code_408',\n",
       "       'area_code_415', 'night', 'day', 'eve', '0-5', '5-10', '10-15', '15-20',\n",
       "       '20-25', '>25'],\n",
       "      dtype='object')"
      ]
     },
     "execution_count": 35,
     "metadata": {},
     "output_type": "execute_result"
    }
   ],
   "source": [
    "df_FS.columns"
   ]
  },
  {
   "cell_type": "code",
   "execution_count": 36,
   "metadata": {},
   "outputs": [],
   "source": [
    "df_T = df_FS.drop(['area_code','area_code_510','range_churn','0-5','highest_period_minutes','night',], 1)"
   ]
  },
  {
   "cell_type": "code",
   "execution_count": 37,
   "metadata": {},
   "outputs": [
    {
     "data": {
      "text/plain": [
       "Index(['account_length', 'international_plan', 'voice_mail_plan',\n",
       "       'number_vmail_messages', 'total_day_minutes', 'total_day_calls',\n",
       "       'total_day_charge', 'total_eve_minutes', 'total_eve_calls',\n",
       "       'total_eve_charge', 'total_night_minutes', 'total_night_calls',\n",
       "       'total_night_charge', 'total_intl_minutes', 'total_intl_calls',\n",
       "       'total_intl_charge', 'CS_Calls_Range', 'churn', 'area_code_408',\n",
       "       'area_code_415', 'day', 'eve', '5-10', '10-15', '15-20', '20-25',\n",
       "       '>25'],\n",
       "      dtype='object')"
      ]
     },
     "execution_count": 37,
     "metadata": {},
     "output_type": "execute_result"
    }
   ],
   "source": [
    "df_T.columns"
   ]
  },
  {
   "cell_type": "markdown",
   "metadata": {},
   "source": [
    "## Normalizering Dataset"
   ]
  },
  {
   "cell_type": "code",
   "execution_count": 38,
   "metadata": {},
   "outputs": [
    {
     "data": {
      "text/plain": [
       "array([31.2, 27.8, 25. , 24.1, 23.1, 22.7, 22.6, 20. , 20. , 19.4, 18.5,\n",
       "       18.2, 18.2, 17.5, 17.2, 16.7, 16.1, 16. , 16. , 15.8, 15.4, 15. ,\n",
       "       14.8, 14.6, 13.8, 13.5, 13.2, 12.5, 12.5, 12.2, 11.8, 11.4, 10.9,\n",
       "       10. ,  9.7,  8.8,  7.7,  7.1,  6.9,  6.7,  6.7,  6.7,  6.5,  6.1,\n",
       "        5.3,  4.3,  3.7,  3.6,  2.9,  2.4,  nan])"
      ]
     },
     "execution_count": 38,
     "metadata": {},
     "output_type": "execute_result"
    }
   ],
   "source": [
    "churn_state['yes_perc'].values"
   ]
  },
  {
   "cell_type": "code",
   "execution_count": null,
   "metadata": {},
   "outputs": [],
   "source": []
  },
  {
   "cell_type": "markdown",
   "metadata": {},
   "source": [
    "# Balancing Dataset by Oversampling Technique"
   ]
  },
  {
   "cell_type": "code",
   "execution_count": 39,
   "metadata": {},
   "outputs": [
    {
     "name": "stdout",
     "output_type": "stream",
     "text": [
      "class 0: (1443, 27)\n",
      "class 1: (224, 27)\n"
     ]
    }
   ],
   "source": [
    "# class count\n",
    "class_count_0, class_count_1 = df_T['churn'].value_counts()\n",
    "\n",
    "# Separate class\n",
    "class_0 = df_T[df_T['churn'] == 0]\n",
    "class_1 = df_T[df_T['churn'] == 1]\n",
    "\n",
    "print('class 0:', class_0.shape)\n",
    "print('class 1:', class_1.shape)"
   ]
  },
  {
   "cell_type": "code",
   "execution_count": 40,
   "metadata": {},
   "outputs": [
    {
     "name": "stdout",
     "output_type": "stream",
     "text": [
      "1443 224\n"
     ]
    }
   ],
   "source": [
    "class_1_over = class_1.sample(class_count_0, replace=True)\n",
    "df_balanced = pd.concat([class_1_over, class_0], axis=0)\n",
    "class_count_0_new, class_count_1_new = df_T['churn'].value_counts()\n",
    "print(class_count_0_new, class_count_1_new)"
   ]
  },
  {
   "cell_type": "code",
   "execution_count": 41,
   "metadata": {},
   "outputs": [
    {
     "data": {
      "text/plain": [
       "churn\n",
       "0    1443\n",
       "1    1443\n",
       "dtype: int64"
      ]
     },
     "execution_count": 41,
     "metadata": {},
     "output_type": "execute_result"
    }
   ],
   "source": [
    "df_balanced.groupby(\"churn\").size()"
   ]
  },
  {
   "cell_type": "code",
   "execution_count": 42,
   "metadata": {},
   "outputs": [
    {
     "data": {
      "text/html": [
       "<div>\n",
       "<style scoped>\n",
       "    .dataframe tbody tr th:only-of-type {\n",
       "        vertical-align: middle;\n",
       "    }\n",
       "\n",
       "    .dataframe tbody tr th {\n",
       "        vertical-align: top;\n",
       "    }\n",
       "\n",
       "    .dataframe thead th {\n",
       "        text-align: right;\n",
       "    }\n",
       "</style>\n",
       "<table border=\"1\" class=\"dataframe\">\n",
       "  <thead>\n",
       "    <tr style=\"text-align: right;\">\n",
       "      <th></th>\n",
       "      <th>account_length</th>\n",
       "      <th>international_plan</th>\n",
       "      <th>voice_mail_plan</th>\n",
       "      <th>number_vmail_messages</th>\n",
       "      <th>total_day_minutes</th>\n",
       "      <th>total_day_calls</th>\n",
       "      <th>total_day_charge</th>\n",
       "      <th>total_eve_minutes</th>\n",
       "      <th>total_eve_calls</th>\n",
       "      <th>total_eve_charge</th>\n",
       "      <th>...</th>\n",
       "      <th>churn</th>\n",
       "      <th>area_code_408</th>\n",
       "      <th>area_code_415</th>\n",
       "      <th>day</th>\n",
       "      <th>eve</th>\n",
       "      <th>5-10</th>\n",
       "      <th>10-15</th>\n",
       "      <th>15-20</th>\n",
       "      <th>20-25</th>\n",
       "      <th>&gt;25</th>\n",
       "    </tr>\n",
       "  </thead>\n",
       "  <tbody>\n",
       "    <tr>\n",
       "      <th>956</th>\n",
       "      <td>78</td>\n",
       "      <td>0</td>\n",
       "      <td>0</td>\n",
       "      <td>0</td>\n",
       "      <td>226.3</td>\n",
       "      <td>88</td>\n",
       "      <td>38.47</td>\n",
       "      <td>306.2</td>\n",
       "      <td>81</td>\n",
       "      <td>26.03</td>\n",
       "      <td>...</td>\n",
       "      <td>1</td>\n",
       "      <td>1</td>\n",
       "      <td>0</td>\n",
       "      <td>0</td>\n",
       "      <td>1</td>\n",
       "      <td>0</td>\n",
       "      <td>0</td>\n",
       "      <td>0</td>\n",
       "      <td>1</td>\n",
       "      <td>0</td>\n",
       "    </tr>\n",
       "    <tr>\n",
       "      <th>1108</th>\n",
       "      <td>124</td>\n",
       "      <td>0</td>\n",
       "      <td>0</td>\n",
       "      <td>0</td>\n",
       "      <td>108.2</td>\n",
       "      <td>92</td>\n",
       "      <td>18.39</td>\n",
       "      <td>214.3</td>\n",
       "      <td>83</td>\n",
       "      <td>18.22</td>\n",
       "      <td>...</td>\n",
       "      <td>1</td>\n",
       "      <td>0</td>\n",
       "      <td>1</td>\n",
       "      <td>0</td>\n",
       "      <td>1</td>\n",
       "      <td>0</td>\n",
       "      <td>0</td>\n",
       "      <td>0</td>\n",
       "      <td>1</td>\n",
       "      <td>0</td>\n",
       "    </tr>\n",
       "    <tr>\n",
       "      <th>209</th>\n",
       "      <td>38</td>\n",
       "      <td>1</td>\n",
       "      <td>0</td>\n",
       "      <td>0</td>\n",
       "      <td>211.6</td>\n",
       "      <td>87</td>\n",
       "      <td>35.97</td>\n",
       "      <td>106.9</td>\n",
       "      <td>68</td>\n",
       "      <td>9.09</td>\n",
       "      <td>...</td>\n",
       "      <td>1</td>\n",
       "      <td>0</td>\n",
       "      <td>1</td>\n",
       "      <td>1</td>\n",
       "      <td>0</td>\n",
       "      <td>0</td>\n",
       "      <td>0</td>\n",
       "      <td>1</td>\n",
       "      <td>0</td>\n",
       "      <td>0</td>\n",
       "    </tr>\n",
       "    <tr>\n",
       "      <th>427</th>\n",
       "      <td>115</td>\n",
       "      <td>0</td>\n",
       "      <td>0</td>\n",
       "      <td>0</td>\n",
       "      <td>275.5</td>\n",
       "      <td>76</td>\n",
       "      <td>46.84</td>\n",
       "      <td>225.8</td>\n",
       "      <td>82</td>\n",
       "      <td>19.19</td>\n",
       "      <td>...</td>\n",
       "      <td>1</td>\n",
       "      <td>0</td>\n",
       "      <td>1</td>\n",
       "      <td>0</td>\n",
       "      <td>0</td>\n",
       "      <td>0</td>\n",
       "      <td>0</td>\n",
       "      <td>1</td>\n",
       "      <td>0</td>\n",
       "      <td>0</td>\n",
       "    </tr>\n",
       "    <tr>\n",
       "      <th>21</th>\n",
       "      <td>47</td>\n",
       "      <td>1</td>\n",
       "      <td>0</td>\n",
       "      <td>0</td>\n",
       "      <td>135.0</td>\n",
       "      <td>108</td>\n",
       "      <td>22.95</td>\n",
       "      <td>176.3</td>\n",
       "      <td>111</td>\n",
       "      <td>14.99</td>\n",
       "      <td>...</td>\n",
       "      <td>1</td>\n",
       "      <td>0</td>\n",
       "      <td>0</td>\n",
       "      <td>0</td>\n",
       "      <td>1</td>\n",
       "      <td>1</td>\n",
       "      <td>0</td>\n",
       "      <td>0</td>\n",
       "      <td>0</td>\n",
       "      <td>0</td>\n",
       "    </tr>\n",
       "    <tr>\n",
       "      <th>...</th>\n",
       "      <td>...</td>\n",
       "      <td>...</td>\n",
       "      <td>...</td>\n",
       "      <td>...</td>\n",
       "      <td>...</td>\n",
       "      <td>...</td>\n",
       "      <td>...</td>\n",
       "      <td>...</td>\n",
       "      <td>...</td>\n",
       "      <td>...</td>\n",
       "      <td>...</td>\n",
       "      <td>...</td>\n",
       "      <td>...</td>\n",
       "      <td>...</td>\n",
       "      <td>...</td>\n",
       "      <td>...</td>\n",
       "      <td>...</td>\n",
       "      <td>...</td>\n",
       "      <td>...</td>\n",
       "      <td>...</td>\n",
       "      <td>...</td>\n",
       "    </tr>\n",
       "    <tr>\n",
       "      <th>1661</th>\n",
       "      <td>116</td>\n",
       "      <td>0</td>\n",
       "      <td>0</td>\n",
       "      <td>0</td>\n",
       "      <td>211.3</td>\n",
       "      <td>91</td>\n",
       "      <td>35.92</td>\n",
       "      <td>190.9</td>\n",
       "      <td>116</td>\n",
       "      <td>16.23</td>\n",
       "      <td>...</td>\n",
       "      <td>0</td>\n",
       "      <td>1</td>\n",
       "      <td>0</td>\n",
       "      <td>1</td>\n",
       "      <td>0</td>\n",
       "      <td>0</td>\n",
       "      <td>0</td>\n",
       "      <td>0</td>\n",
       "      <td>1</td>\n",
       "      <td>0</td>\n",
       "    </tr>\n",
       "    <tr>\n",
       "      <th>1663</th>\n",
       "      <td>122</td>\n",
       "      <td>0</td>\n",
       "      <td>0</td>\n",
       "      <td>0</td>\n",
       "      <td>189.9</td>\n",
       "      <td>87</td>\n",
       "      <td>32.28</td>\n",
       "      <td>193.9</td>\n",
       "      <td>118</td>\n",
       "      <td>16.48</td>\n",
       "      <td>...</td>\n",
       "      <td>0</td>\n",
       "      <td>1</td>\n",
       "      <td>0</td>\n",
       "      <td>1</td>\n",
       "      <td>0</td>\n",
       "      <td>0</td>\n",
       "      <td>0</td>\n",
       "      <td>0</td>\n",
       "      <td>1</td>\n",
       "      <td>0</td>\n",
       "    </tr>\n",
       "    <tr>\n",
       "      <th>1664</th>\n",
       "      <td>50</td>\n",
       "      <td>0</td>\n",
       "      <td>0</td>\n",
       "      <td>0</td>\n",
       "      <td>198.7</td>\n",
       "      <td>114</td>\n",
       "      <td>33.78</td>\n",
       "      <td>141.5</td>\n",
       "      <td>90</td>\n",
       "      <td>12.03</td>\n",
       "      <td>...</td>\n",
       "      <td>0</td>\n",
       "      <td>1</td>\n",
       "      <td>0</td>\n",
       "      <td>0</td>\n",
       "      <td>0</td>\n",
       "      <td>0</td>\n",
       "      <td>0</td>\n",
       "      <td>0</td>\n",
       "      <td>1</td>\n",
       "      <td>0</td>\n",
       "    </tr>\n",
       "    <tr>\n",
       "      <th>1665</th>\n",
       "      <td>71</td>\n",
       "      <td>0</td>\n",
       "      <td>0</td>\n",
       "      <td>0</td>\n",
       "      <td>123.8</td>\n",
       "      <td>130</td>\n",
       "      <td>21.05</td>\n",
       "      <td>226.5</td>\n",
       "      <td>91</td>\n",
       "      <td>19.25</td>\n",
       "      <td>...</td>\n",
       "      <td>0</td>\n",
       "      <td>0</td>\n",
       "      <td>1</td>\n",
       "      <td>0</td>\n",
       "      <td>1</td>\n",
       "      <td>0</td>\n",
       "      <td>0</td>\n",
       "      <td>0</td>\n",
       "      <td>1</td>\n",
       "      <td>0</td>\n",
       "    </tr>\n",
       "    <tr>\n",
       "      <th>1666</th>\n",
       "      <td>117</td>\n",
       "      <td>0</td>\n",
       "      <td>0</td>\n",
       "      <td>0</td>\n",
       "      <td>212.1</td>\n",
       "      <td>133</td>\n",
       "      <td>36.06</td>\n",
       "      <td>276.6</td>\n",
       "      <td>94</td>\n",
       "      <td>23.51</td>\n",
       "      <td>...</td>\n",
       "      <td>0</td>\n",
       "      <td>0</td>\n",
       "      <td>1</td>\n",
       "      <td>0</td>\n",
       "      <td>1</td>\n",
       "      <td>0</td>\n",
       "      <td>0</td>\n",
       "      <td>0</td>\n",
       "      <td>1</td>\n",
       "      <td>0</td>\n",
       "    </tr>\n",
       "  </tbody>\n",
       "</table>\n",
       "<p>2886 rows × 27 columns</p>\n",
       "</div>"
      ],
      "text/plain": [
       "      account_length  international_plan  voice_mail_plan  \\\n",
       "956               78                   0                0   \n",
       "1108             124                   0                0   \n",
       "209               38                   1                0   \n",
       "427              115                   0                0   \n",
       "21                47                   1                0   \n",
       "...              ...                 ...              ...   \n",
       "1661             116                   0                0   \n",
       "1663             122                   0                0   \n",
       "1664              50                   0                0   \n",
       "1665              71                   0                0   \n",
       "1666             117                   0                0   \n",
       "\n",
       "      number_vmail_messages  total_day_minutes  total_day_calls  \\\n",
       "956                       0              226.3               88   \n",
       "1108                      0              108.2               92   \n",
       "209                       0              211.6               87   \n",
       "427                       0              275.5               76   \n",
       "21                        0              135.0              108   \n",
       "...                     ...                ...              ...   \n",
       "1661                      0              211.3               91   \n",
       "1663                      0              189.9               87   \n",
       "1664                      0              198.7              114   \n",
       "1665                      0              123.8              130   \n",
       "1666                      0              212.1              133   \n",
       "\n",
       "      total_day_charge  total_eve_minutes  total_eve_calls  total_eve_charge  \\\n",
       "956              38.47              306.2               81             26.03   \n",
       "1108             18.39              214.3               83             18.22   \n",
       "209              35.97              106.9               68              9.09   \n",
       "427              46.84              225.8               82             19.19   \n",
       "21               22.95              176.3              111             14.99   \n",
       "...                ...                ...              ...               ...   \n",
       "1661             35.92              190.9              116             16.23   \n",
       "1663             32.28              193.9              118             16.48   \n",
       "1664             33.78              141.5               90             12.03   \n",
       "1665             21.05              226.5               91             19.25   \n",
       "1666             36.06              276.6               94             23.51   \n",
       "\n",
       "      ...  churn  area_code_408  area_code_415  day  eve  5-10  10-15  15-20  \\\n",
       "956   ...      1              1              0    0    1     0      0      0   \n",
       "1108  ...      1              0              1    0    1     0      0      0   \n",
       "209   ...      1              0              1    1    0     0      0      1   \n",
       "427   ...      1              0              1    0    0     0      0      1   \n",
       "21    ...      1              0              0    0    1     1      0      0   \n",
       "...   ...    ...            ...            ...  ...  ...   ...    ...    ...   \n",
       "1661  ...      0              1              0    1    0     0      0      0   \n",
       "1663  ...      0              1              0    1    0     0      0      0   \n",
       "1664  ...      0              1              0    0    0     0      0      0   \n",
       "1665  ...      0              0              1    0    1     0      0      0   \n",
       "1666  ...      0              0              1    0    1     0      0      0   \n",
       "\n",
       "      20-25  >25  \n",
       "956       1    0  \n",
       "1108      1    0  \n",
       "209       0    0  \n",
       "427       0    0  \n",
       "21        0    0  \n",
       "...     ...  ...  \n",
       "1661      1    0  \n",
       "1663      1    0  \n",
       "1664      1    0  \n",
       "1665      1    0  \n",
       "1666      1    0  \n",
       "\n",
       "[2886 rows x 27 columns]"
      ]
     },
     "execution_count": 42,
     "metadata": {},
     "output_type": "execute_result"
    }
   ],
   "source": [
    "df_balanced"
   ]
  },
  {
   "cell_type": "markdown",
   "metadata": {},
   "source": [
    "# Training and Test Data"
   ]
  },
  {
   "cell_type": "code",
   "execution_count": 43,
   "metadata": {},
   "outputs": [],
   "source": [
    "# Import modules\n",
    "from sklearn.model_selection import train_test_split\n",
    "\n",
    "# Training size\n",
    "teste_size = 0.33\n",
    "\n",
    "# Loading data\n",
    "array = df_balanced.values\n",
    "\n",
    "# Seprating in input and output components\n",
    "X = array[:,0:21]\n",
    "Y = df_balanced.iloc[:,21]\n",
    "\n",
    "\n",
    "# Creating training and testing datasets\n",
    "X_train, X_test, Y_train, Y_test = train_test_split(X, Y, test_size = teste_size)"
   ]
  },
  {
   "cell_type": "code",
   "execution_count": 44,
   "metadata": {},
   "outputs": [],
   "source": [
    "#pip install --upgrade scikit-learn\n",
    "\n",
    "# Import modules\n",
    "\n",
    "from sklearn.preprocessing import OneHotEncoder\n",
    "from sklearn.linear_model import LogisticRegression\n",
    "from sklearn.tree import DecisionTreeRegressor\n",
    "from sklearn.ensemble import RandomForestRegressor\n",
    "from sklearn.ensemble import GradientBoostingClassifier\n",
    "from sklearn.metrics import classification_report\n",
    "from sklearn.metrics import accuracy_score\n",
    "from sklearn.metrics import mean_squared_error, mean_absolute_error, r2_score\n",
    "\n",
    "result_scores=[]"
   ]
  },
  {
   "cell_type": "code",
   "execution_count": 45,
   "metadata": {},
   "outputs": [],
   "source": [
    "def evauation_model(pred, y_val):\n",
    "    score_MSE = round(mean_squared_error(pred, y_val),2)\n",
    "    score_MAE = round(mean_absolute_error(pred, y_val),2)\n",
    "    score_r2score = round(r2_score(pred, y_val),2)\n",
    "    return score_MSE, score_MAE, score_r2score\n"
   ]
  },
  {
   "cell_type": "code",
   "execution_count": 46,
   "metadata": {},
   "outputs": [
    {
     "name": "stdout",
     "output_type": "stream",
     "text": [
      "              precision    recall  f1-score   support\n",
      "\n",
      "           0       0.97      0.97      0.97       591\n",
      "           1       0.95      0.95      0.95       362\n",
      "\n",
      "    accuracy                           0.96       953\n",
      "   macro avg       0.96      0.96      0.96       953\n",
      "weighted avg       0.96      0.96      0.96       953\n",
      "\n",
      "[('Logistic Regrassion', 0.04, 0.04, 0.84, 0.96)]\n"
     ]
    }
   ],
   "source": [
    "# Logistic Regression\n",
    "model = LogisticRegression()\n",
    "\n",
    "# Training model\n",
    "model.fit(X_train, Y_train)\n",
    "\n",
    "# Model score on test data\n",
    "forecast = model.predict(X_test)\n",
    "# Forecast\n",
    "forecast_LR=forecast\n",
    "reportLR = classification_report(Y_test, forecast)\n",
    "\n",
    "score_MSE, score_MAE, score_r2score = evauation_model(forecast,Y_test)\n",
    "result_scores.append(('Logistic Regrassion',\n",
    "                      round(score_MSE, 2),\n",
    "                      round(score_MAE, 2),\n",
    "                      round(score_r2score, 2),\n",
    "                      round(model.score(X_test,Y_test), 2)\n",
    "                     ))\n",
    "\n",
    "print(reportLR)\n",
    "print(result_scores)\n",
    "#print(forecast)"
   ]
  },
  {
   "cell_type": "code",
   "execution_count": 47,
   "metadata": {},
   "outputs": [
    {
     "name": "stdout",
     "output_type": "stream",
     "text": [
      "              precision    recall  f1-score   support\n",
      "\n",
      "           0       0.98      0.99      0.99       591\n",
      "           1       0.99      0.98      0.98       362\n",
      "\n",
      "    accuracy                           0.99       953\n",
      "   macro avg       0.99      0.98      0.99       953\n",
      "weighted avg       0.99      0.99      0.99       953\n",
      "\n",
      "[('Logistic Regrassion', 0.04, 0.04, 0.84, 0.96), ('Gradient Boosting Classifier', 0.01, 0.01, 0.94, 0.99)]\n"
     ]
    }
   ],
   "source": [
    "# Gradient Boosting Classifier\n",
    "model = GradientBoostingClassifier()\n",
    "\n",
    "# Training model\n",
    "model.fit(X_train, Y_train)\n",
    "\n",
    "# Model score on test data\n",
    "forecast = model.predict(X_test)\n",
    "# Forecast\n",
    "forecast_GBC=forecast\n",
    "reportGBC = classification_report(Y_test, forecast)\n",
    "\n",
    "score_MSE, score_MAE, score_r2score = evauation_model(forecast,Y_test)\n",
    "result_scores.append(('Gradient Boosting Classifier', round(score_MSE, 2), \n",
    "                      round(score_MAE, 2), \n",
    "                      round(score_r2score, 2),\n",
    "                      round(model.score(X_test,Y_test), 2)\n",
    "                      ))\n",
    "\n",
    "print(reportGBC)\n",
    "print(result_scores)\n"
   ]
  },
  {
   "cell_type": "code",
   "execution_count": 48,
   "metadata": {},
   "outputs": [
    {
     "name": "stdout",
     "output_type": "stream",
     "text": [
      "              precision    recall  f1-score   support\n",
      "\n",
      "           0       0.97      0.98      0.98       591\n",
      "           1       0.97      0.96      0.96       362\n",
      "\n",
      "    accuracy                           0.97       953\n",
      "   macro avg       0.97      0.97      0.97       953\n",
      "weighted avg       0.97      0.97      0.97       953\n",
      "\n",
      "[('Logistic Regrassion', 0.04, 0.04, 0.84, 0.96), ('Gradient Boosting Classifier', 0.01, 0.01, 0.94, 0.99), ('Random Forest Regressor', 0.03, 0.03, 0.88, 0.91)]\n"
     ]
    }
   ],
   "source": [
    "# Random Forest Regressor\n",
    "model = RandomForestRegressor()\n",
    "\n",
    "# Training model\n",
    "model.fit(X_train, Y_train)\n",
    "\n",
    "# Model score on test data\n",
    "forecast = model.predict(X_test)\n",
    "forecast=[0 if item<0.5 else 1 for item in forecast]\n",
    "# Forecast\n",
    "forecast_RFR=forecast\n",
    "\n",
    "reportRFR = classification_report(Y_test, forecast)\n",
    "\n",
    "score_MSE, score_MAE, score_r2score = evauation_model(forecast,Y_test)\n",
    "result_scores.append(('Random Forest Regressor',\n",
    "                      round(score_MSE, 2),\n",
    "                      round(score_MAE, 2),\n",
    "                      round(score_r2score, 2),\n",
    "                      round(model.score(X_test,Y_test), 2)\n",
    "                     ))\n",
    "\n",
    "print(reportRFR)\n",
    "print(result_scores)\n"
   ]
  },
  {
   "cell_type": "code",
   "execution_count": 49,
   "metadata": {},
   "outputs": [
    {
     "data": {
      "text/html": [
       "<div>\n",
       "<style scoped>\n",
       "    .dataframe tbody tr th:only-of-type {\n",
       "        vertical-align: middle;\n",
       "    }\n",
       "\n",
       "    .dataframe tbody tr th {\n",
       "        vertical-align: top;\n",
       "    }\n",
       "\n",
       "    .dataframe thead th {\n",
       "        text-align: right;\n",
       "    }\n",
       "</style>\n",
       "<table border=\"1\" class=\"dataframe\">\n",
       "  <thead>\n",
       "    <tr style=\"text-align: right;\">\n",
       "      <th></th>\n",
       "      <th>model</th>\n",
       "      <th>mse</th>\n",
       "      <th>mae</th>\n",
       "      <th>r2score</th>\n",
       "      <th>accuracy</th>\n",
       "    </tr>\n",
       "  </thead>\n",
       "  <tbody>\n",
       "    <tr>\n",
       "      <th>0</th>\n",
       "      <td>Logistic Regrassion</td>\n",
       "      <td>0.04</td>\n",
       "      <td>0.04</td>\n",
       "      <td>0.84</td>\n",
       "      <td>0.96</td>\n",
       "    </tr>\n",
       "    <tr>\n",
       "      <th>1</th>\n",
       "      <td>Gradient Boosting Classifier</td>\n",
       "      <td>0.01</td>\n",
       "      <td>0.01</td>\n",
       "      <td>0.94</td>\n",
       "      <td>0.99</td>\n",
       "    </tr>\n",
       "    <tr>\n",
       "      <th>2</th>\n",
       "      <td>Random Forest Regressor</td>\n",
       "      <td>0.03</td>\n",
       "      <td>0.03</td>\n",
       "      <td>0.88</td>\n",
       "      <td>0.91</td>\n",
       "    </tr>\n",
       "  </tbody>\n",
       "</table>\n",
       "</div>"
      ],
      "text/plain": [
       "                          model   mse   mae  r2score  accuracy\n",
       "0           Logistic Regrassion  0.04  0.04     0.84      0.96\n",
       "1  Gradient Boosting Classifier  0.01  0.01     0.94      0.99\n",
       "2       Random Forest Regressor  0.03  0.03     0.88      0.91"
      ]
     },
     "execution_count": 49,
     "metadata": {},
     "output_type": "execute_result"
    }
   ],
   "source": [
    "df_result_scores = pd.DataFrame(result_scores,columns=[\"model\",\"mse\",\"mae\",\"r2score\", \"accuracy\"])\n",
    "df_result_scores\n"
   ]
  }
 ],
 "metadata": {
  "kernelspec": {
   "display_name": "Python 3",
   "language": "python",
   "name": "python3"
  },
  "language_info": {
   "codemirror_mode": {
    "name": "ipython",
    "version": 3
   },
   "file_extension": ".py",
   "mimetype": "text/x-python",
   "name": "python",
   "nbconvert_exporter": "python",
   "pygments_lexer": "ipython3",
   "version": "3.7.6"
  }
 },
 "nbformat": 4,
 "nbformat_minor": 4
}
